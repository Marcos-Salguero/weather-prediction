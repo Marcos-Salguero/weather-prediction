{
 "cells": [
  {
   "cell_type": "markdown",
   "id": "de252b69-ab4f-415e-9be9-fa60da27bf05",
   "metadata": {},
   "source": [
    "# Weather Prediction in Australia\n",
    "\n",
    "### Objective\n",
    "\n",
    "The goal of this project is to predict whether it will rain the following day by training classification models on the target variable `RainTomorrow`.\n",
    "\n",
    "### Dataset Description\n",
    "\n",
    "This dataset contains approximately 10 years of daily weather observations collected from various locations across Australia.\n",
    "\n",
    "The target variable, `RainTomorrow`, indicates whether it rained the next day. It is a binary categorical variable:\n",
    "- **Yes**: if the recorded rainfall for the following day was **1 mm or more**.\n",
    "- **No**: if the recorded rainfall was less than 1 mm.\n",
    "\n",
    "### Importing Libraries\n",
    "\n",
    "First, we import the libraries that will be used throughout the project."
   ]
  },
  {
   "cell_type": "code",
   "execution_count": 2,
   "id": "a53121ea-b831-4e62-ba30-628f8b6458f9",
   "metadata": {},
   "outputs": [],
   "source": [
    "import pandas as pd\n",
    "import numpy as np\n",
    "from sklearn.preprocessing import OrdinalEncoder, StandardScaler\n",
    "import matplotlib.pyplot as plt\n",
    "import seaborn as sns\n",
    "\n",
    "from sklearn.model_selection import train_test_split\n",
    "from sklearn import svm\n",
    "from sklearn.svm import LinearSVC, SVC\n",
    "from sklearn.pipeline import make_pipeline\n",
    "from sklearn.tree import DecisionTreeClassifier\n",
    "from sklearn.linear_model import LogisticRegression\n",
    "\n",
    "from sklearn.ensemble import BaggingClassifier,AdaBoostClassifier, StackingClassifier\n",
    "from sklearn.ensemble import RandomForestClassifier, VotingClassifier\n",
    "\n",
    "import tensorflow as tf"
   ]
  },
  {
   "cell_type": "markdown",
   "id": "44306473-fdf1-4610-a150-036e033f1866",
   "metadata": {},
   "source": [
    "### Loading the Dataset\n",
    "\n",
    "We load the dataset containing weather observations from various locations across Australia over a 10-year period (2008–2017).  \n",
    "The data is assigned to the variable `weather`, which will serve as a DataFrame for exploring, managing, and visualizing the information."
   ]
  },
  {
   "cell_type": "code",
   "execution_count": 3,
   "id": "fe523370-2759-482b-985e-c3c7e4f2f2d8",
   "metadata": {},
   "outputs": [
    {
     "data": {
      "text/html": [
       "<div>\n",
       "<style scoped>\n",
       "    .dataframe tbody tr th:only-of-type {\n",
       "        vertical-align: middle;\n",
       "    }\n",
       "\n",
       "    .dataframe tbody tr th {\n",
       "        vertical-align: top;\n",
       "    }\n",
       "\n",
       "    .dataframe thead th {\n",
       "        text-align: right;\n",
       "    }\n",
       "</style>\n",
       "<table border=\"1\" class=\"dataframe\">\n",
       "  <thead>\n",
       "    <tr style=\"text-align: right;\">\n",
       "      <th></th>\n",
       "      <th>Date</th>\n",
       "      <th>Location</th>\n",
       "      <th>MinTemp</th>\n",
       "      <th>MaxTemp</th>\n",
       "      <th>Rainfall</th>\n",
       "      <th>Evaporation</th>\n",
       "      <th>Sunshine</th>\n",
       "      <th>WindGustDir</th>\n",
       "      <th>WindGustSpeed</th>\n",
       "      <th>WindDir9am</th>\n",
       "      <th>...</th>\n",
       "      <th>Humidity9am</th>\n",
       "      <th>Humidity3pm</th>\n",
       "      <th>Pressure9am</th>\n",
       "      <th>Pressure3pm</th>\n",
       "      <th>Cloud9am</th>\n",
       "      <th>Cloud3pm</th>\n",
       "      <th>Temp9am</th>\n",
       "      <th>Temp3pm</th>\n",
       "      <th>RainToday</th>\n",
       "      <th>RainTomorrow</th>\n",
       "    </tr>\n",
       "  </thead>\n",
       "  <tbody>\n",
       "    <tr>\n",
       "      <th>0</th>\n",
       "      <td>2008-12-01</td>\n",
       "      <td>Albury</td>\n",
       "      <td>13.4</td>\n",
       "      <td>22.9</td>\n",
       "      <td>0.6</td>\n",
       "      <td>NaN</td>\n",
       "      <td>NaN</td>\n",
       "      <td>W</td>\n",
       "      <td>44.0</td>\n",
       "      <td>W</td>\n",
       "      <td>...</td>\n",
       "      <td>71.0</td>\n",
       "      <td>22.0</td>\n",
       "      <td>1007.7</td>\n",
       "      <td>1007.1</td>\n",
       "      <td>8.0</td>\n",
       "      <td>NaN</td>\n",
       "      <td>16.9</td>\n",
       "      <td>21.8</td>\n",
       "      <td>No</td>\n",
       "      <td>No</td>\n",
       "    </tr>\n",
       "    <tr>\n",
       "      <th>1</th>\n",
       "      <td>2008-12-02</td>\n",
       "      <td>Albury</td>\n",
       "      <td>7.4</td>\n",
       "      <td>25.1</td>\n",
       "      <td>0.0</td>\n",
       "      <td>NaN</td>\n",
       "      <td>NaN</td>\n",
       "      <td>WNW</td>\n",
       "      <td>44.0</td>\n",
       "      <td>NNW</td>\n",
       "      <td>...</td>\n",
       "      <td>44.0</td>\n",
       "      <td>25.0</td>\n",
       "      <td>1010.6</td>\n",
       "      <td>1007.8</td>\n",
       "      <td>NaN</td>\n",
       "      <td>NaN</td>\n",
       "      <td>17.2</td>\n",
       "      <td>24.3</td>\n",
       "      <td>No</td>\n",
       "      <td>No</td>\n",
       "    </tr>\n",
       "    <tr>\n",
       "      <th>2</th>\n",
       "      <td>2008-12-03</td>\n",
       "      <td>Albury</td>\n",
       "      <td>12.9</td>\n",
       "      <td>25.7</td>\n",
       "      <td>0.0</td>\n",
       "      <td>NaN</td>\n",
       "      <td>NaN</td>\n",
       "      <td>WSW</td>\n",
       "      <td>46.0</td>\n",
       "      <td>W</td>\n",
       "      <td>...</td>\n",
       "      <td>38.0</td>\n",
       "      <td>30.0</td>\n",
       "      <td>1007.6</td>\n",
       "      <td>1008.7</td>\n",
       "      <td>NaN</td>\n",
       "      <td>2.0</td>\n",
       "      <td>21.0</td>\n",
       "      <td>23.2</td>\n",
       "      <td>No</td>\n",
       "      <td>No</td>\n",
       "    </tr>\n",
       "    <tr>\n",
       "      <th>3</th>\n",
       "      <td>2008-12-04</td>\n",
       "      <td>Albury</td>\n",
       "      <td>9.2</td>\n",
       "      <td>28.0</td>\n",
       "      <td>0.0</td>\n",
       "      <td>NaN</td>\n",
       "      <td>NaN</td>\n",
       "      <td>NE</td>\n",
       "      <td>24.0</td>\n",
       "      <td>SE</td>\n",
       "      <td>...</td>\n",
       "      <td>45.0</td>\n",
       "      <td>16.0</td>\n",
       "      <td>1017.6</td>\n",
       "      <td>1012.8</td>\n",
       "      <td>NaN</td>\n",
       "      <td>NaN</td>\n",
       "      <td>18.1</td>\n",
       "      <td>26.5</td>\n",
       "      <td>No</td>\n",
       "      <td>No</td>\n",
       "    </tr>\n",
       "    <tr>\n",
       "      <th>4</th>\n",
       "      <td>2008-12-05</td>\n",
       "      <td>Albury</td>\n",
       "      <td>17.5</td>\n",
       "      <td>32.3</td>\n",
       "      <td>1.0</td>\n",
       "      <td>NaN</td>\n",
       "      <td>NaN</td>\n",
       "      <td>W</td>\n",
       "      <td>41.0</td>\n",
       "      <td>ENE</td>\n",
       "      <td>...</td>\n",
       "      <td>82.0</td>\n",
       "      <td>33.0</td>\n",
       "      <td>1010.8</td>\n",
       "      <td>1006.0</td>\n",
       "      <td>7.0</td>\n",
       "      <td>8.0</td>\n",
       "      <td>17.8</td>\n",
       "      <td>29.7</td>\n",
       "      <td>No</td>\n",
       "      <td>No</td>\n",
       "    </tr>\n",
       "  </tbody>\n",
       "</table>\n",
       "<p>5 rows × 23 columns</p>\n",
       "</div>"
      ],
      "text/plain": [
       "         Date Location  MinTemp  MaxTemp  Rainfall  Evaporation  Sunshine  \\\n",
       "0  2008-12-01   Albury     13.4     22.9       0.6          NaN       NaN   \n",
       "1  2008-12-02   Albury      7.4     25.1       0.0          NaN       NaN   \n",
       "2  2008-12-03   Albury     12.9     25.7       0.0          NaN       NaN   \n",
       "3  2008-12-04   Albury      9.2     28.0       0.0          NaN       NaN   \n",
       "4  2008-12-05   Albury     17.5     32.3       1.0          NaN       NaN   \n",
       "\n",
       "  WindGustDir  WindGustSpeed WindDir9am  ... Humidity9am  Humidity3pm  \\\n",
       "0           W           44.0          W  ...        71.0         22.0   \n",
       "1         WNW           44.0        NNW  ...        44.0         25.0   \n",
       "2         WSW           46.0          W  ...        38.0         30.0   \n",
       "3          NE           24.0         SE  ...        45.0         16.0   \n",
       "4           W           41.0        ENE  ...        82.0         33.0   \n",
       "\n",
       "   Pressure9am  Pressure3pm  Cloud9am  Cloud3pm  Temp9am  Temp3pm  RainToday  \\\n",
       "0       1007.7       1007.1       8.0       NaN     16.9     21.8         No   \n",
       "1       1010.6       1007.8       NaN       NaN     17.2     24.3         No   \n",
       "2       1007.6       1008.7       NaN       2.0     21.0     23.2         No   \n",
       "3       1017.6       1012.8       NaN       NaN     18.1     26.5         No   \n",
       "4       1010.8       1006.0       7.0       8.0     17.8     29.7         No   \n",
       "\n",
       "   RainTomorrow  \n",
       "0            No  \n",
       "1            No  \n",
       "2            No  \n",
       "3            No  \n",
       "4            No  \n",
       "\n",
       "[5 rows x 23 columns]"
      ]
     },
     "execution_count": 3,
     "metadata": {},
     "output_type": "execute_result"
    }
   ],
   "source": [
    "weather_df = pd.read_csv(\"../data/weatherAUS.csv\")\n",
    "weather_df.head()"
   ]
  },
  {
   "cell_type": "markdown",
   "id": "fb88c5af-2997-4732-ad19-d093cceac39f",
   "metadata": {},
   "source": [
    "### Exploring Dataset Structure\n",
    "\n",
    "We now display relevant information about the dataset, including the variable names, data types, and the number of non-null entries for each column."
   ]
  },
  {
   "cell_type": "code",
   "execution_count": 32,
   "id": "e0785165-8253-44cd-98c1-9c3cb02ba603",
   "metadata": {},
   "outputs": [
    {
     "name": "stdout",
     "output_type": "stream",
     "text": [
      "<class 'pandas.core.frame.DataFrame'>\n",
      "RangeIndex: 145460 entries, 0 to 145459\n",
      "Data columns (total 23 columns):\n",
      " #   Column         Non-Null Count   Dtype  \n",
      "---  ------         --------------   -----  \n",
      " 0   Date           145460 non-null  object \n",
      " 1   Location       145460 non-null  object \n",
      " 2   MinTemp        143975 non-null  float64\n",
      " 3   MaxTemp        144199 non-null  float64\n",
      " 4   Rainfall       142199 non-null  float64\n",
      " 5   Evaporation    82670 non-null   float64\n",
      " 6   Sunshine       75625 non-null   float64\n",
      " 7   WindGustDir    135134 non-null  object \n",
      " 8   WindGustSpeed  135197 non-null  float64\n",
      " 9   WindDir9am     134894 non-null  object \n",
      " 10  WindDir3pm     141232 non-null  object \n",
      " 11  WindSpeed9am   143693 non-null  float64\n",
      " 12  WindSpeed3pm   142398 non-null  float64\n",
      " 13  Humidity9am    142806 non-null  float64\n",
      " 14  Humidity3pm    140953 non-null  float64\n",
      " 15  Pressure9am    130395 non-null  float64\n",
      " 16  Pressure3pm    130432 non-null  float64\n",
      " 17  Cloud9am       89572 non-null   float64\n",
      " 18  Cloud3pm       86102 non-null   float64\n",
      " 19  Temp9am        143693 non-null  float64\n",
      " 20  Temp3pm        141851 non-null  float64\n",
      " 21  RainToday      142199 non-null  object \n",
      " 22  RainTomorrow   142193 non-null  object \n",
      "dtypes: float64(16), object(7)\n",
      "memory usage: 25.5+ MB\n"
     ]
    }
   ],
   "source": [
    "weather_df.info()"
   ]
  },
  {
   "cell_type": "markdown",
   "id": "a187e52f-195b-42ae-8e74-76ff0ff670a9",
   "metadata": {},
   "source": [
    "This visualization provides a more detailed view of the data types for each variable, as well as the number of non-null and null entries per column.\n",
    "\n",
    "As we can see, the dataset contains **145,460 records**, but several columns—such as `Evaporation`, `Sunshine`, `Cloud9am`, and `Cloud3pm`—have a significant number of missing values.\n",
    "\n",
    "Before proceeding with data cleaning, we need to decide how to handle these missing entries appropriately."
   ]
  },
  {
   "cell_type": "markdown",
   "id": "4d954135-65c7-4922-ac75-6380b9e4493f",
   "metadata": {},
   "source": [
    "### Variable Descriptions\n",
    "\n",
    "Before diving deeper, here's a brief explanation of the information captured by each column in the dataset:\n",
    "\n",
    "- **`Date`**: The date of the observation.\n",
    "- **`Location`**: The common name of the weather station's location.\n",
    "- **`MinTemp`**: Minimum temperature (°C) recorded on the day.\n",
    "- **`MaxTemp`**: Maximum temperature (°C) recorded on the day.\n",
    "- **`Rainfall`**: Amount of rainfall recorded for the day (in mm).\n",
    "- **`Evaporation`**: Class A pan evaporation (in mm) measured over the 24 hours to 9am.\n",
    "- **`Sunshine`**: Number of hours of bright sunshine during the day.\n",
    "- **`WindGustDir`**: Direction of the strongest wind gust in the 24 hours to midnight.\n",
    "- **`WindGustSpeed`**: Speed (km/h) of the strongest wind gust in the 24 hours to midnight.\n",
    "- **`WindDir9am`**: Wind direction at 9am.\n",
    "- **`WindDir3pm`**: Wind direction at 3pm.\n",
    "- **`WindSpeed9am`**: Wind speed (km/h), averaged over 10 minutes prior to 9am.\n",
    "- **`WindSpeed3pm`**: Wind speed (km/h), averaged over 10 minutes prior to 3pm.\n",
    "- **`Humidity9am`**: Humidity (%) at 9am.\n",
    "- **`Humidity3pm`**: Humidity (%) at 3pm.\n",
    "- **`Pressure9am`**: Atmospheric pressure (hPa), reduced to mean sea level, at 9am.\n",
    "- **`Pressure3pm`**: Atmospheric pressure (hPa), reduced to mean sea level, at 3pm.\n",
    "- **`Cloud9am`**: Fraction of the sky covered by cloud at 9am, measured in *oktas* (eighths).\n",
    "- **`Cloud3pm`**: Fraction of the sky covered by cloud at 3pm, also measured in *oktas*. See `Cloud9am` for details.\n",
    "- **`Temp9am`**: Temperature (°C) at 9am.\n",
    "- **`Temp3pm`**: Temperature (°C) at 3pm.\n",
    "- **`RainToday`**: Boolean: 1 if rainfall in the 24 hours to 9am exceeded 1mm, otherwise 0.\n",
    "- **`RainTomorrow`**: Rainfall amount for the following day (in mm). Used to generate the target variable `RainTomorrow`, indicating the likelihood of rain."
   ]
  },
  {
   "cell_type": "code",
   "execution_count": 33,
   "id": "90cce6c9-d12f-463a-9afa-8a0f3c2557b5",
   "metadata": {},
   "outputs": [
    {
     "data": {
      "text/html": [
       "<div>\n",
       "<style scoped>\n",
       "    .dataframe tbody tr th:only-of-type {\n",
       "        vertical-align: middle;\n",
       "    }\n",
       "\n",
       "    .dataframe tbody tr th {\n",
       "        vertical-align: top;\n",
       "    }\n",
       "\n",
       "    .dataframe thead th {\n",
       "        text-align: right;\n",
       "    }\n",
       "</style>\n",
       "<table border=\"1\" class=\"dataframe\">\n",
       "  <thead>\n",
       "    <tr style=\"text-align: right;\">\n",
       "      <th></th>\n",
       "      <th>MinTemp</th>\n",
       "      <th>MaxTemp</th>\n",
       "      <th>Rainfall</th>\n",
       "      <th>Evaporation</th>\n",
       "      <th>Sunshine</th>\n",
       "      <th>WindGustSpeed</th>\n",
       "      <th>WindSpeed9am</th>\n",
       "      <th>WindSpeed3pm</th>\n",
       "      <th>Humidity9am</th>\n",
       "      <th>Humidity3pm</th>\n",
       "      <th>Pressure9am</th>\n",
       "      <th>Pressure3pm</th>\n",
       "      <th>Cloud9am</th>\n",
       "      <th>Cloud3pm</th>\n",
       "      <th>Temp9am</th>\n",
       "      <th>Temp3pm</th>\n",
       "    </tr>\n",
       "  </thead>\n",
       "  <tbody>\n",
       "    <tr>\n",
       "      <th>count</th>\n",
       "      <td>143975.000000</td>\n",
       "      <td>144199.000000</td>\n",
       "      <td>142199.000000</td>\n",
       "      <td>82670.000000</td>\n",
       "      <td>75625.000000</td>\n",
       "      <td>135197.000000</td>\n",
       "      <td>143693.000000</td>\n",
       "      <td>142398.000000</td>\n",
       "      <td>142806.000000</td>\n",
       "      <td>140953.000000</td>\n",
       "      <td>130395.00000</td>\n",
       "      <td>130432.000000</td>\n",
       "      <td>89572.000000</td>\n",
       "      <td>86102.000000</td>\n",
       "      <td>143693.000000</td>\n",
       "      <td>141851.00000</td>\n",
       "    </tr>\n",
       "    <tr>\n",
       "      <th>mean</th>\n",
       "      <td>12.194034</td>\n",
       "      <td>23.221348</td>\n",
       "      <td>2.360918</td>\n",
       "      <td>5.468232</td>\n",
       "      <td>7.611178</td>\n",
       "      <td>40.035230</td>\n",
       "      <td>14.043426</td>\n",
       "      <td>18.662657</td>\n",
       "      <td>68.880831</td>\n",
       "      <td>51.539116</td>\n",
       "      <td>1017.64994</td>\n",
       "      <td>1015.255889</td>\n",
       "      <td>4.447461</td>\n",
       "      <td>4.509930</td>\n",
       "      <td>16.990631</td>\n",
       "      <td>21.68339</td>\n",
       "    </tr>\n",
       "    <tr>\n",
       "      <th>std</th>\n",
       "      <td>6.398495</td>\n",
       "      <td>7.119049</td>\n",
       "      <td>8.478060</td>\n",
       "      <td>4.193704</td>\n",
       "      <td>3.785483</td>\n",
       "      <td>13.607062</td>\n",
       "      <td>8.915375</td>\n",
       "      <td>8.809800</td>\n",
       "      <td>19.029164</td>\n",
       "      <td>20.795902</td>\n",
       "      <td>7.10653</td>\n",
       "      <td>7.037414</td>\n",
       "      <td>2.887159</td>\n",
       "      <td>2.720357</td>\n",
       "      <td>6.488753</td>\n",
       "      <td>6.93665</td>\n",
       "    </tr>\n",
       "    <tr>\n",
       "      <th>min</th>\n",
       "      <td>-8.500000</td>\n",
       "      <td>-4.800000</td>\n",
       "      <td>0.000000</td>\n",
       "      <td>0.000000</td>\n",
       "      <td>0.000000</td>\n",
       "      <td>6.000000</td>\n",
       "      <td>0.000000</td>\n",
       "      <td>0.000000</td>\n",
       "      <td>0.000000</td>\n",
       "      <td>0.000000</td>\n",
       "      <td>980.50000</td>\n",
       "      <td>977.100000</td>\n",
       "      <td>0.000000</td>\n",
       "      <td>0.000000</td>\n",
       "      <td>-7.200000</td>\n",
       "      <td>-5.40000</td>\n",
       "    </tr>\n",
       "    <tr>\n",
       "      <th>25%</th>\n",
       "      <td>7.600000</td>\n",
       "      <td>17.900000</td>\n",
       "      <td>0.000000</td>\n",
       "      <td>2.600000</td>\n",
       "      <td>4.800000</td>\n",
       "      <td>31.000000</td>\n",
       "      <td>7.000000</td>\n",
       "      <td>13.000000</td>\n",
       "      <td>57.000000</td>\n",
       "      <td>37.000000</td>\n",
       "      <td>1012.90000</td>\n",
       "      <td>1010.400000</td>\n",
       "      <td>1.000000</td>\n",
       "      <td>2.000000</td>\n",
       "      <td>12.300000</td>\n",
       "      <td>16.60000</td>\n",
       "    </tr>\n",
       "    <tr>\n",
       "      <th>50%</th>\n",
       "      <td>12.000000</td>\n",
       "      <td>22.600000</td>\n",
       "      <td>0.000000</td>\n",
       "      <td>4.800000</td>\n",
       "      <td>8.400000</td>\n",
       "      <td>39.000000</td>\n",
       "      <td>13.000000</td>\n",
       "      <td>19.000000</td>\n",
       "      <td>70.000000</td>\n",
       "      <td>52.000000</td>\n",
       "      <td>1017.60000</td>\n",
       "      <td>1015.200000</td>\n",
       "      <td>5.000000</td>\n",
       "      <td>5.000000</td>\n",
       "      <td>16.700000</td>\n",
       "      <td>21.10000</td>\n",
       "    </tr>\n",
       "    <tr>\n",
       "      <th>75%</th>\n",
       "      <td>16.900000</td>\n",
       "      <td>28.200000</td>\n",
       "      <td>0.800000</td>\n",
       "      <td>7.400000</td>\n",
       "      <td>10.600000</td>\n",
       "      <td>48.000000</td>\n",
       "      <td>19.000000</td>\n",
       "      <td>24.000000</td>\n",
       "      <td>83.000000</td>\n",
       "      <td>66.000000</td>\n",
       "      <td>1022.40000</td>\n",
       "      <td>1020.000000</td>\n",
       "      <td>7.000000</td>\n",
       "      <td>7.000000</td>\n",
       "      <td>21.600000</td>\n",
       "      <td>26.40000</td>\n",
       "    </tr>\n",
       "    <tr>\n",
       "      <th>max</th>\n",
       "      <td>33.900000</td>\n",
       "      <td>48.100000</td>\n",
       "      <td>371.000000</td>\n",
       "      <td>145.000000</td>\n",
       "      <td>14.500000</td>\n",
       "      <td>135.000000</td>\n",
       "      <td>130.000000</td>\n",
       "      <td>87.000000</td>\n",
       "      <td>100.000000</td>\n",
       "      <td>100.000000</td>\n",
       "      <td>1041.00000</td>\n",
       "      <td>1039.600000</td>\n",
       "      <td>9.000000</td>\n",
       "      <td>9.000000</td>\n",
       "      <td>40.200000</td>\n",
       "      <td>46.70000</td>\n",
       "    </tr>\n",
       "  </tbody>\n",
       "</table>\n",
       "</div>"
      ],
      "text/plain": [
       "             MinTemp        MaxTemp       Rainfall   Evaporation  \\\n",
       "count  143975.000000  144199.000000  142199.000000  82670.000000   \n",
       "mean       12.194034      23.221348       2.360918      5.468232   \n",
       "std         6.398495       7.119049       8.478060      4.193704   \n",
       "min        -8.500000      -4.800000       0.000000      0.000000   \n",
       "25%         7.600000      17.900000       0.000000      2.600000   \n",
       "50%        12.000000      22.600000       0.000000      4.800000   \n",
       "75%        16.900000      28.200000       0.800000      7.400000   \n",
       "max        33.900000      48.100000     371.000000    145.000000   \n",
       "\n",
       "           Sunshine  WindGustSpeed   WindSpeed9am   WindSpeed3pm  \\\n",
       "count  75625.000000  135197.000000  143693.000000  142398.000000   \n",
       "mean       7.611178      40.035230      14.043426      18.662657   \n",
       "std        3.785483      13.607062       8.915375       8.809800   \n",
       "min        0.000000       6.000000       0.000000       0.000000   \n",
       "25%        4.800000      31.000000       7.000000      13.000000   \n",
       "50%        8.400000      39.000000      13.000000      19.000000   \n",
       "75%       10.600000      48.000000      19.000000      24.000000   \n",
       "max       14.500000     135.000000     130.000000      87.000000   \n",
       "\n",
       "         Humidity9am    Humidity3pm   Pressure9am    Pressure3pm  \\\n",
       "count  142806.000000  140953.000000  130395.00000  130432.000000   \n",
       "mean       68.880831      51.539116    1017.64994    1015.255889   \n",
       "std        19.029164      20.795902       7.10653       7.037414   \n",
       "min         0.000000       0.000000     980.50000     977.100000   \n",
       "25%        57.000000      37.000000    1012.90000    1010.400000   \n",
       "50%        70.000000      52.000000    1017.60000    1015.200000   \n",
       "75%        83.000000      66.000000    1022.40000    1020.000000   \n",
       "max       100.000000     100.000000    1041.00000    1039.600000   \n",
       "\n",
       "           Cloud9am      Cloud3pm        Temp9am       Temp3pm  \n",
       "count  89572.000000  86102.000000  143693.000000  141851.00000  \n",
       "mean       4.447461      4.509930      16.990631      21.68339  \n",
       "std        2.887159      2.720357       6.488753       6.93665  \n",
       "min        0.000000      0.000000      -7.200000      -5.40000  \n",
       "25%        1.000000      2.000000      12.300000      16.60000  \n",
       "50%        5.000000      5.000000      16.700000      21.10000  \n",
       "75%        7.000000      7.000000      21.600000      26.40000  \n",
       "max        9.000000      9.000000      40.200000      46.70000  "
      ]
     },
     "execution_count": 33,
     "metadata": {},
     "output_type": "execute_result"
    }
   ],
   "source": [
    "weather_df.describe()"
   ]
  },
  {
   "cell_type": "markdown",
   "id": "ecfe3d1a-76f0-45d5-a190-75e89e7b2bec",
   "metadata": {},
   "source": [
    "We now examine the number of missing or unknown (`NaN`) values in each variable."
   ]
  },
  {
   "cell_type": "code",
   "execution_count": 34,
   "id": "e9768e19-b706-4027-96e6-ee1aabb56d3e",
   "metadata": {},
   "outputs": [
    {
     "name": "stdout",
     "output_type": "stream",
     "text": [
      "Percentage of Missing Data per Variable: \n",
      "\n",
      "Date             0.00\n",
      "Location         0.00\n",
      "MinTemp          0.01\n",
      "MaxTemp          0.01\n",
      "Rainfall         0.02\n",
      "Evaporation      0.43\n",
      "Sunshine         0.48\n",
      "WindGustDir      0.07\n",
      "WindGustSpeed    0.07\n",
      "WindDir9am       0.07\n",
      "WindDir3pm       0.03\n",
      "WindSpeed9am     0.01\n",
      "WindSpeed3pm     0.02\n",
      "Humidity9am      0.02\n",
      "Humidity3pm      0.03\n",
      "Pressure9am      0.10\n",
      "Pressure3pm      0.10\n",
      "Cloud9am         0.38\n",
      "Cloud3pm         0.41\n",
      "Temp9am          0.01\n",
      "Temp3pm          0.02\n",
      "RainToday        0.02\n",
      "RainTomorrow     0.02\n",
      "dtype: float64\n"
     ]
    }
   ],
   "source": [
    "print(\"Percentage of Missing Data per Variable: \\n\")\n",
    "columnas = [nombre for nombre in weather_df.columns]\n",
    "print(round(weather_df[columnas].isnull().sum()/ weather_df.shape[0], 2))"
   ]
  },
  {
   "cell_type": "markdown",
   "id": "e2a02cf0-59ff-417a-bf9d-be7b5245038c",
   "metadata": {},
   "source": [
    "We create a visual representation of the missing data percentages to better understand the extent of missingness in each variable.\n",
    "\n",
    "Notably, there are four variables with a particularly high percentage of missing values. These variables will be removed from the dataset, as attempting to impute them could introduce significant prediction errors."
   ]
  },
  {
   "cell_type": "code",
   "execution_count": 7,
   "id": "02625987-73da-436b-95f2-782e76416a07",
   "metadata": {},
   "outputs": [
    {
     "data": {
      "image/png": "[encoded data removed]",
      "text/plain": [
       "<Figure size 1000x700 with 1 Axes>"
      ]
     },
     "metadata": {},
     "output_type": "display_data"
    }
   ],
   "source": [
    "df_aux = pd.DataFrame(round(weather_df[columnas].isnull().sum()/ weather_df.shape[0], 2))\n",
    "plt.figure(figsize=(10,7))\n",
    "plt.barh(df_aux.index, df_aux[0])\n",
    "plt.xticks(np.arange(0, 1.2, step=0.2))\n",
    "plt.show()"
   ]
  },
  {
   "cell_type": "markdown",
   "id": "fd083e48-8d6a-4d95-ac31-f6d7e54cbfcf",
   "metadata": {},
   "source": [
    "We notice that the target variable, `RainTomorrow`, contains missing values. These records must be removed, as they are not useful for training or testing the model.\n",
    "\n",
    "Additionally, records without data for the `RainToday` variable will also be removed, as this variable is essential for predicting whether it will rain the following day."
   ]
  },
  {
   "cell_type": "code",
   "execution_count": 8,
   "id": "e1f68afa-cb1b-408e-8b87-cec55d679889",
   "metadata": {},
   "outputs": [],
   "source": [
    "weather_df.dropna(subset=['RainToday' , 'RainTomorrow'], inplace=True)"
   ]
  },
  {
   "cell_type": "markdown",
   "id": "79da01e5-455b-4a64-8c4f-72d026950ec9",
   "metadata": {},
   "source": [
    "The next step will involve removing the four variables with more than 35% missing data: `Cloud3pm`, `Cloud9am`, `Sunshine`, and `Evaporation`.  \n",
    "Additionally, we will remove the `Date` column, as it does not provide any useful information for our analysis.\n",
    "\n",
    "An interesting approach would be to break down the `Date` variable into day and month components, and analyze whether these new variables have any correlation with the target variable we aim to predict."
   ]
  },
  {
   "cell_type": "code",
   "execution_count": 9,
   "id": "8d4c0a95-9fd6-4f6b-9515-b7d6ef5ea63a",
   "metadata": {},
   "outputs": [],
   "source": [
    "weather_df.drop(columns=['Cloud3pm','Cloud9am','Sunshine','Evaporation', 'Date'],axis=1, inplace=True)"
   ]
  },
  {
   "cell_type": "markdown",
   "id": "321a5eaa-6caa-42c6-944d-35e765625c08",
   "metadata": {},
   "source": [
    "After removing the unnecessary columns, we proceed to handle the remaining columns with missing values.  \n",
    "We begin with the numeric columns, where missing values will be replaced by the mean of the respective variable.  \n",
    "We use list comprehensions to select these variables efficiently."
   ]
  },
  {
   "cell_type": "code",
   "execution_count": null,
   "id": "bb893f3f-d4b5-46da-a3a6-3ec18d472a57",
   "metadata": {},
   "outputs": [],
   "source": [
    "var_num = [column for column in weather_df.columns if weather_df[column].dtype == 'float64']\n",
    "\n",
    "for col in var_num:\n",
    "    weather_df[col] = weather_df[col].fillna(weather_df[col].mean()) "
   ]
  },
  {
   "cell_type": "markdown",
   "id": "79d7de7d-40fb-4b3b-8c70-720e24af94d7",
   "metadata": {},
   "source": [
    "Next, we address the missing values in the categorical variables: `WindGustDir`, `WindGustSpeed`, and `WindDir3pm`.  \n",
    "Since these are categorical variables, instead of replacing the missing values with the mean, we will replace them with the mode of each respective variable."
   ]
  },
  {
   "cell_type": "code",
   "execution_count": 11,
   "id": "7fa34b64-101c-44a9-a65f-092f6594205a",
   "metadata": {},
   "outputs": [],
   "source": [
    "var_cat = [column for column in weather_df.columns if weather_df[column].dtype == 'object']\n",
    "\n",
    "for col in var_cat:\n",
    "    weather_df[col] = weather_df[col].fillna(weather_df[col].mode()[0]) "
   ]
  },
  {
   "cell_type": "markdown",
   "id": "55d4cec3-043c-4fa6-9a17-0a999bf0777f",
   "metadata": {},
   "source": [
    "We confirm that there are no longer any missing values in the dataset."
   ]
  },
  {
   "cell_type": "code",
   "execution_count": 12,
   "id": "5e7b56f6-9aa9-4762-a629-6cba948eaae8",
   "metadata": {},
   "outputs": [
    {
     "name": "stdout",
     "output_type": "stream",
     "text": [
      "Location         0\n",
      "MinTemp          0\n",
      "MaxTemp          0\n",
      "Rainfall         0\n",
      "WindGustDir      0\n",
      "WindGustSpeed    0\n",
      "WindDir9am       0\n",
      "WindDir3pm       0\n",
      "WindSpeed9am     0\n",
      "WindSpeed3pm     0\n",
      "Humidity9am      0\n",
      "Humidity3pm      0\n",
      "Pressure9am      0\n",
      "Pressure3pm      0\n",
      "Temp9am          0\n",
      "Temp3pm          0\n",
      "RainToday        0\n",
      "RainTomorrow     0\n",
      "dtype: int64\n"
     ]
    }
   ],
   "source": [
    "columnas = [nombre for nombre in weather_df.columns]\n",
    "print(weather_df[columnas].isnull().sum())"
   ]
  },
  {
   "cell_type": "markdown",
   "id": "98af8c71-c5bc-43a1-9cbb-53c87a97a141",
   "metadata": {},
   "source": [
    "The next step in our data preprocessing is to convert categorical variables into numeric ones.  \n",
    "We will use ordinal encoding, assigning a unique value to each category, leveraging the `OrdinalEncoder` library for ease.  \n",
    "A function will be created to handle this transformation."
   ]
  },
  {
   "cell_type": "code",
   "execution_count": 14,
   "id": "57bcc1ed-30ab-4da7-b166-56f9a46c8371",
   "metadata": {},
   "outputs": [],
   "source": [
    "def cat_a_num(df):\n",
    "    array = list(df[df.columns[0]].unique())\n",
    "    encoder = OrdinalEncoder(categories=[array])\n",
    "\n",
    "    encoder.fit(weather_df[[df.columns[0]]])\n",
    "    return encoder.transform(df[[df.columns[0]]])"
   ]
  },
  {
   "cell_type": "markdown",
   "id": "ed78f50a-fc20-4696-9d2b-14123461ccba",
   "metadata": {},
   "source": [
    "We apply the function to each categorical variable, transforming all of them into numeric values."
   ]
  },
  {
   "cell_type": "code",
   "execution_count": 15,
   "id": "4b446105-fc48-4ae6-84cc-dbdd44300ac4",
   "metadata": {},
   "outputs": [],
   "source": [
    "for col in var_cat:\n",
    "    weather_df[col] = cat_a_num(weather_df[[col]])\n",
    "    weather_df[col] = weather_df[col].astype('int64')"
   ]
  },
  {
   "cell_type": "markdown",
   "id": "2ee246e7-8267-4b54-b397-b49e4de5fcef",
   "metadata": {},
   "source": [
    "We display information about the current state of the dataset. We can observe that there are no longer any missing records, all variables now have the same number of entries with data, and all variables are of numeric type (either integer or decimal)."
   ]
  },
  {
   "cell_type": "code",
   "execution_count": 16,
   "id": "c9302886-5f54-496f-b8e9-e67d78b1750d",
   "metadata": {},
   "outputs": [
    {
     "name": "stdout",
     "output_type": "stream",
     "text": [
      "<class 'pandas.core.frame.DataFrame'>\n",
      "Index: 140787 entries, 0 to 145458\n",
      "Data columns (total 18 columns):\n",
      " #   Column         Non-Null Count   Dtype  \n",
      "---  ------         --------------   -----  \n",
      " 0   Location       140787 non-null  int64  \n",
      " 1   MinTemp        140787 non-null  float64\n",
      " 2   MaxTemp        140787 non-null  float64\n",
      " 3   Rainfall       140787 non-null  float64\n",
      " 4   WindGustDir    140787 non-null  int64  \n",
      " 5   WindGustSpeed  140787 non-null  float64\n",
      " 6   WindDir9am     140787 non-null  int64  \n",
      " 7   WindDir3pm     140787 non-null  int64  \n",
      " 8   WindSpeed9am   140787 non-null  float64\n",
      " 9   WindSpeed3pm   140787 non-null  float64\n",
      " 10  Humidity9am    140787 non-null  float64\n",
      " 11  Humidity3pm    140787 non-null  float64\n",
      " 12  Pressure9am    140787 non-null  float64\n",
      " 13  Pressure3pm    140787 non-null  float64\n",
      " 14  Temp9am        140787 non-null  float64\n",
      " 15  Temp3pm        140787 non-null  float64\n",
      " 16  RainToday      140787 non-null  int64  \n",
      " 17  RainTomorrow   140787 non-null  int64  \n",
      "dtypes: float64(12), int64(6)\n",
      "memory usage: 20.4 MB\n"
     ]
    }
   ],
   "source": [
    "weather_df.info()"
   ]
  },
  {
   "cell_type": "markdown",
   "id": "84fd33b6-5e65-471c-b135-e19e82800f02",
   "metadata": {},
   "source": [
    "We also display the first five rows of the dataset to visualize the changes made to the variables."
   ]
  },
  {
   "cell_type": "code",
   "execution_count": 17,
   "id": "9e98b5d4-f648-4586-875e-f6f65d67b699",
   "metadata": {},
   "outputs": [
    {
     "data": {
      "text/html": [
       "<div>\n",
       "<style scoped>\n",
       "    .dataframe tbody tr th:only-of-type {\n",
       "        vertical-align: middle;\n",
       "    }\n",
       "\n",
       "    .dataframe tbody tr th {\n",
       "        vertical-align: top;\n",
       "    }\n",
       "\n",
       "    .dataframe thead th {\n",
       "        text-align: right;\n",
       "    }\n",
       "</style>\n",
       "<table border=\"1\" class=\"dataframe\">\n",
       "  <thead>\n",
       "    <tr style=\"text-align: right;\">\n",
       "      <th></th>\n",
       "      <th>Location</th>\n",
       "      <th>MinTemp</th>\n",
       "      <th>MaxTemp</th>\n",
       "      <th>Rainfall</th>\n",
       "      <th>WindGustDir</th>\n",
       "      <th>WindGustSpeed</th>\n",
       "      <th>WindDir9am</th>\n",
       "      <th>WindDir3pm</th>\n",
       "      <th>WindSpeed9am</th>\n",
       "      <th>WindSpeed3pm</th>\n",
       "      <th>Humidity9am</th>\n",
       "      <th>Humidity3pm</th>\n",
       "      <th>Pressure9am</th>\n",
       "      <th>Pressure3pm</th>\n",
       "      <th>Temp9am</th>\n",
       "      <th>Temp3pm</th>\n",
       "      <th>RainToday</th>\n",
       "      <th>RainTomorrow</th>\n",
       "    </tr>\n",
       "  </thead>\n",
       "  <tbody>\n",
       "    <tr>\n",
       "      <th>0</th>\n",
       "      <td>0</td>\n",
       "      <td>13.4</td>\n",
       "      <td>22.9</td>\n",
       "      <td>0.6</td>\n",
       "      <td>0</td>\n",
       "      <td>44.0</td>\n",
       "      <td>0</td>\n",
       "      <td>0</td>\n",
       "      <td>20.0</td>\n",
       "      <td>24.0</td>\n",
       "      <td>71.0</td>\n",
       "      <td>22.0</td>\n",
       "      <td>1007.7</td>\n",
       "      <td>1007.1</td>\n",
       "      <td>16.9</td>\n",
       "      <td>21.8</td>\n",
       "      <td>0</td>\n",
       "      <td>0</td>\n",
       "    </tr>\n",
       "    <tr>\n",
       "      <th>1</th>\n",
       "      <td>0</td>\n",
       "      <td>7.4</td>\n",
       "      <td>25.1</td>\n",
       "      <td>0.0</td>\n",
       "      <td>1</td>\n",
       "      <td>44.0</td>\n",
       "      <td>1</td>\n",
       "      <td>1</td>\n",
       "      <td>4.0</td>\n",
       "      <td>22.0</td>\n",
       "      <td>44.0</td>\n",
       "      <td>25.0</td>\n",
       "      <td>1010.6</td>\n",
       "      <td>1007.8</td>\n",
       "      <td>17.2</td>\n",
       "      <td>24.3</td>\n",
       "      <td>0</td>\n",
       "      <td>0</td>\n",
       "    </tr>\n",
       "    <tr>\n",
       "      <th>2</th>\n",
       "      <td>0</td>\n",
       "      <td>12.9</td>\n",
       "      <td>25.7</td>\n",
       "      <td>0.0</td>\n",
       "      <td>2</td>\n",
       "      <td>46.0</td>\n",
       "      <td>0</td>\n",
       "      <td>1</td>\n",
       "      <td>19.0</td>\n",
       "      <td>26.0</td>\n",
       "      <td>38.0</td>\n",
       "      <td>30.0</td>\n",
       "      <td>1007.6</td>\n",
       "      <td>1008.7</td>\n",
       "      <td>21.0</td>\n",
       "      <td>23.2</td>\n",
       "      <td>0</td>\n",
       "      <td>0</td>\n",
       "    </tr>\n",
       "    <tr>\n",
       "      <th>3</th>\n",
       "      <td>0</td>\n",
       "      <td>9.2</td>\n",
       "      <td>28.0</td>\n",
       "      <td>0.0</td>\n",
       "      <td>3</td>\n",
       "      <td>24.0</td>\n",
       "      <td>2</td>\n",
       "      <td>2</td>\n",
       "      <td>11.0</td>\n",
       "      <td>9.0</td>\n",
       "      <td>45.0</td>\n",
       "      <td>16.0</td>\n",
       "      <td>1017.6</td>\n",
       "      <td>1012.8</td>\n",
       "      <td>18.1</td>\n",
       "      <td>26.5</td>\n",
       "      <td>0</td>\n",
       "      <td>0</td>\n",
       "    </tr>\n",
       "    <tr>\n",
       "      <th>4</th>\n",
       "      <td>0</td>\n",
       "      <td>17.5</td>\n",
       "      <td>32.3</td>\n",
       "      <td>1.0</td>\n",
       "      <td>0</td>\n",
       "      <td>41.0</td>\n",
       "      <td>3</td>\n",
       "      <td>3</td>\n",
       "      <td>7.0</td>\n",
       "      <td>20.0</td>\n",
       "      <td>82.0</td>\n",
       "      <td>33.0</td>\n",
       "      <td>1010.8</td>\n",
       "      <td>1006.0</td>\n",
       "      <td>17.8</td>\n",
       "      <td>29.7</td>\n",
       "      <td>0</td>\n",
       "      <td>0</td>\n",
       "    </tr>\n",
       "  </tbody>\n",
       "</table>\n",
       "</div>"
      ],
      "text/plain": [
       "   Location  MinTemp  MaxTemp  Rainfall  WindGustDir  WindGustSpeed  \\\n",
       "0         0     13.4     22.9       0.6            0           44.0   \n",
       "1         0      7.4     25.1       0.0            1           44.0   \n",
       "2         0     12.9     25.7       0.0            2           46.0   \n",
       "3         0      9.2     28.0       0.0            3           24.0   \n",
       "4         0     17.5     32.3       1.0            0           41.0   \n",
       "\n",
       "   WindDir9am  WindDir3pm  WindSpeed9am  WindSpeed3pm  Humidity9am  \\\n",
       "0           0           0          20.0          24.0         71.0   \n",
       "1           1           1           4.0          22.0         44.0   \n",
       "2           0           1          19.0          26.0         38.0   \n",
       "3           2           2          11.0           9.0         45.0   \n",
       "4           3           3           7.0          20.0         82.0   \n",
       "\n",
       "   Humidity3pm  Pressure9am  Pressure3pm  Temp9am  Temp3pm  RainToday  \\\n",
       "0         22.0       1007.7       1007.1     16.9     21.8          0   \n",
       "1         25.0       1010.6       1007.8     17.2     24.3          0   \n",
       "2         30.0       1007.6       1008.7     21.0     23.2          0   \n",
       "3         16.0       1017.6       1012.8     18.1     26.5          0   \n",
       "4         33.0       1010.8       1006.0     17.8     29.7          0   \n",
       "\n",
       "   RainTomorrow  \n",
       "0             0  \n",
       "1             0  \n",
       "2             0  \n",
       "3             0  \n",
       "4             0  "
      ]
     },
     "execution_count": 17,
     "metadata": {},
     "output_type": "execute_result"
    }
   ],
   "source": [
    "weather_df.head()"
   ]
  },
  {
   "cell_type": "markdown",
   "id": "9346a801-6bc1-4fa7-9ded-9ddfe319d0d3",
   "metadata": {},
   "source": [
    "Once the data is cleaned and in the appropriate format, we will analyze the correlation between variables to remove any that are excessively correlated (as this could introduce errors in the prediction).  \n",
    "To do this, we visualize a heatmap of the correlations."
   ]
  },
  {
   "cell_type": "code",
   "execution_count": 18,
   "id": "4ec5b610-0a61-4892-984a-1f7c040d64dc",
   "metadata": {},
   "outputs": [
    {
     "data": {
      "text/plain": [
       "<Axes: >"
      ]
     },
     "execution_count": 18,
     "metadata": {},
     "output_type": "execute_result"
    },
    {
     "data": {
      "image/png": "[encoded data removed]",
      "text/plain": [
       "<Figure size 1000x800 with 2 Axes>"
      ]
     },
     "metadata": {},
     "output_type": "display_data"
    }
   ],
   "source": [
    "corr = weather_df.corr()\n",
    "\n",
    "fig, ax = plt.subplots(figsize=(10,8))         \n",
    "sns.heatmap(corr ,vmax=1, vmin=-1)"
   ]
  },
  {
   "cell_type": "markdown",
   "id": "3889d71e-eb31-45b5-b8e6-a4466c5a3fcb",
   "metadata": {},
   "source": [
    "As we can see, there are highly correlated variables, such as `MinTemp` and `MaxTemp` with `Temp9am` and `Temp3pm`.  \n",
    "We need to remove one of each pair to avoid negatively impacting the model due to multicollinearity."
   ]
  },
  {
   "cell_type": "code",
   "execution_count": 19,
   "id": "b81214d5-fb4c-4eeb-aaa8-aeff9cf6d5d1",
   "metadata": {},
   "outputs": [],
   "source": [
    "weather_df.drop(columns=['Temp9am','Temp3pm'],axis=1, inplace=True)"
   ]
  },
  {
   "cell_type": "markdown",
   "id": "b971071d-22fe-4caa-ac71-e61377b3975e",
   "metadata": {},
   "source": [
    "We have completed the data cleaning and preprocessing steps, and the dataset is now ready to begin building the model."
   ]
  },
  {
   "cell_type": "markdown",
   "id": "6c203a63-96ce-46ea-afc4-888337dfe3ba",
   "metadata": {},
   "source": [
    "## MODELING\n",
    "\n",
    "### Splitting the Dataset\n",
    "\n",
    "The first step will be to split the dataset into two parts: one for training the model and another for testing the model and evaluating its accuracy.\n"
   ]
  },
  {
   "cell_type": "code",
   "execution_count": 20,
   "id": "b8d60cbc-e576-4c12-a2b7-01fcc9c0797e",
   "metadata": {},
   "outputs": [],
   "source": [
    "X = weather_df.drop(['RainTomorrow'], axis=1)\n",
    "Y = weather_df['RainTomorrow']\n",
    "\n",
    "X_train, X_test, y_train, y_test = train_test_split(X, Y, random_state=0)"
   ]
  },
  {
   "cell_type": "markdown",
   "id": "be0b38eb-17b3-4b1d-ade3-e7d8559c3563",
   "metadata": {},
   "source": [
    "### Model Selection\n",
    "\n",
    "During this stage, we will test the following methods to determine which one predicts the likelihood of rain tomorrow more accurately:\n",
    "\n",
    "- **SVM (Support Vector Machine)**\n",
    "    - kernel = 'poly'\n",
    "    - kernel = 'rbf'\n",
    "    - kernel = 'linear'\n",
    "\n",
    "\n",
    "- **Ensemble Methods**\n",
    "    - Voting classifier\n",
    "    - Bagging\n",
    "    - Random forest\n",
    "    - Boosting\n",
    "    - Stacking\n",
    "\n",
    "\n",
    "- **Neural Networks**\n"
   ]
  },
  {
   "cell_type": "markdown",
   "id": "1dfb9118-ee48-4f6f-82a9-464d46fb39bb",
   "metadata": {},
   "source": [
    "## SVM\n",
    "\n",
    "We begin by analyzing the three types of SVM that we will evaluate:\n",
    "\n",
    "1. **Poly**\n",
    "2. **RBF (Radial Basis Function)**\n",
    "3. **Linear**\n"
   ]
  },
  {
   "cell_type": "markdown",
   "id": "5871503f-31d1-49d8-9480-8fec806b1339",
   "metadata": {},
   "source": [
    "### kernel = 'poly'\n",
    "\n",
    "We will use two nested loops to test different values of **C** and the polynomial **degree** in order to identify the optimal combination for the best model performance.\n"
   ]
  },
  {
   "cell_type": "code",
   "execution_count": 22,
   "id": "75fa8245-ed2e-4a8d-b6fa-8b8380bd7179",
   "metadata": {},
   "outputs": [
    {
     "name": "stdout",
     "output_type": "stream",
     "text": [
      "Degree: 2, C: 0.01 --> Train Acc: 0.8152, Test Acc: 0.8107\n",
      "Degree: 2, C: 0.1 --> Train Acc: 0.8257, Test Acc: 0.8218\n",
      "Degree: 2, C: 1 --> Train Acc: 0.8277, Test Acc: 0.8242\n",
      "Degree: 3, C: 0.01 --> Train Acc: 0.8329, Test Acc: 0.8269\n",
      "Degree: 3, C: 0.1 --> Train Acc: 0.8458, Test Acc: 0.8395\n",
      "Degree: 3, C: 1 --> Train Acc: 0.8500, Test Acc: 0.8434\n",
      "Degree: 4, C: 0.01 --> Train Acc: 0.8257, Test Acc: 0.8193\n",
      "Degree: 4, C: 0.1 --> Train Acc: 0.8437, Test Acc: 0.8362\n",
      "Degree: 4, C: 1 --> Train Acc: 0.8544, Test Acc: 0.8437\n"
     ]
    }
   ],
   "source": [
    "degrees = [2, 3, 4]\n",
    "C_values = [0.01, 0.1, 1]\n",
    "\n",
    "for degree in degrees:\n",
    "    for C in C_values:\n",
    "        clf = make_pipeline(StandardScaler(),\n",
    "                            svm.SVC(kernel='poly', degree=degree, C=C))\n",
    "        clf.fit(X_train, y_train.ravel())\n",
    "\n",
    "        train_score = clf.score(X_train, y_train)\n",
    "        test_score = clf.score(X_test, y_test)\n",
    "\n",
    "        print(f\"Degree: {degree}, C: {C} --> Train Acc: {train_score:.4f}, Test Acc: {test_score:.4f}\")"
   ]
  },
  {
   "cell_type": "markdown",
   "id": "9df8421d-da46-43ce-8f5c-d45c30876f02",
   "metadata": {},
   "source": [
    "### kernel = 'rbf'\n",
    "\n",
    "Again, we will use two loops to evaluate the model's performance with different values of **C** and **gamma**."
   ]
  },
  {
   "cell_type": "code",
   "execution_count": 23,
   "id": "db5b99f9-6331-4df3-a626-4a9d2edf0929",
   "metadata": {},
   "outputs": [
    {
     "name": "stdout",
     "output_type": "stream",
     "text": [
      "Gamma: 0.01, C: 0.01 --> Train Acc: 0.8336, Test Acc: 0.8271\n",
      "Gamma: 0.01, C: 0.1 --> Train Acc: 0.8436, Test Acc: 0.8369\n",
      "Gamma: 0.01, C: 1 --> Train Acc: 0.8475, Test Acc: 0.8413\n",
      "Gamma: 0.1, C: 0.01 --> Train Acc: 0.8345, Test Acc: 0.8292\n",
      "Gamma: 0.1, C: 0.1 --> Train Acc: 0.8523, Test Acc: 0.8442\n",
      "Gamma: 0.1, C: 1 --> Train Acc: 0.8643, Test Acc: 0.8503\n",
      "Gamma: 1, C: 0.01 --> Train Acc: 0.7792, Test Acc: 0.7758\n",
      "Gamma: 1, C: 0.1 --> Train Acc: 0.7792, Test Acc: 0.7758\n",
      "Gamma: 1, C: 1 --> Train Acc: 0.9684, Test Acc: 0.8108\n"
     ]
    }
   ],
   "source": [
    "gamma_values = [0.01, 0.1, 1]\n",
    "C_values = [0.01, 0.1, 1]\n",
    "\n",
    "for gamma in gamma_values:\n",
    "    for C in C_values:\n",
    "        clf = make_pipeline(StandardScaler(),\n",
    "                            svm.SVC(kernel='rbf', gamma=gamma, C=C))\n",
    "        clf.fit(X_train, y_train.ravel())\n",
    "\n",
    "        train_score = clf.score(X_train, y_train)\n",
    "        test_score = clf.score(X_test, y_test)\n",
    "\n",
    "        print(f\"Gamma: {gamma}, C: {C} --> Train Acc: {train_score:.4f}, Test Acc: {test_score:.4f}\")"
   ]
  },
  {
   "cell_type": "markdown",
   "id": "5a01ab40-9904-492e-99df-4490498a3c19",
   "metadata": {},
   "source": [
    "### kernel = 'linear'\n",
    "\n",
    "In this case, instead of using `svm.SVC` with `kernel='linear'`, we will use `LinearSVC`, which is more suitable for linear classification.  \n",
    "We will evaluate the model's performance based on different values of **C** and the **maximum number of iterations**."
   ]
  },
  {
   "cell_type": "code",
   "execution_count": 24,
   "id": "e32f3ed0-ae7d-4c59-95ab-8a7447eee80d",
   "metadata": {},
   "outputs": [
    {
     "name": "stdout",
     "output_type": "stream",
     "text": [
      "C: 0.01, max_iter: 1000 --> Train Acc: 0.8426, Test Acc: 0.8371\n",
      "C: 0.01, max_iter: 5000 --> Train Acc: 0.8426, Test Acc: 0.8371\n",
      "C: 0.01, max_iter: 10000 --> Train Acc: 0.8426, Test Acc: 0.8371\n",
      "C: 0.01, max_iter: 20000 --> Train Acc: 0.8426, Test Acc: 0.8371\n"
     ]
    },
    {
     "name": "stderr",
     "output_type": "stream",
     "text": [
      "c:\\Users\\msalg\\AppData\\Local\\Programs\\Python\\Python310\\lib\\site-packages\\sklearn\\svm\\_base.py:1225: ConvergenceWarning: Liblinear failed to converge, increase the number of iterations.\n",
      "  warnings.warn(\n"
     ]
    },
    {
     "name": "stdout",
     "output_type": "stream",
     "text": [
      "C: 0.1, max_iter: 1000 --> Train Acc: 0.8426, Test Acc: 0.8372\n",
      "C: 0.1, max_iter: 5000 --> Train Acc: 0.8426, Test Acc: 0.8372\n",
      "C: 0.1, max_iter: 10000 --> Train Acc: 0.8426, Test Acc: 0.8372\n",
      "C: 0.1, max_iter: 20000 --> Train Acc: 0.8426, Test Acc: 0.8372\n"
     ]
    },
    {
     "name": "stderr",
     "output_type": "stream",
     "text": [
      "c:\\Users\\msalg\\AppData\\Local\\Programs\\Python\\Python310\\lib\\site-packages\\sklearn\\svm\\_base.py:1225: ConvergenceWarning: Liblinear failed to converge, increase the number of iterations.\n",
      "  warnings.warn(\n"
     ]
    },
    {
     "name": "stdout",
     "output_type": "stream",
     "text": [
      "C: 1, max_iter: 1000 --> Train Acc: 0.8426, Test Acc: 0.8373\n"
     ]
    },
    {
     "name": "stderr",
     "output_type": "stream",
     "text": [
      "c:\\Users\\msalg\\AppData\\Local\\Programs\\Python\\Python310\\lib\\site-packages\\sklearn\\svm\\_base.py:1225: ConvergenceWarning: Liblinear failed to converge, increase the number of iterations.\n",
      "  warnings.warn(\n"
     ]
    },
    {
     "name": "stdout",
     "output_type": "stream",
     "text": [
      "C: 1, max_iter: 5000 --> Train Acc: 0.8427, Test Acc: 0.8371\n"
     ]
    },
    {
     "name": "stderr",
     "output_type": "stream",
     "text": [
      "c:\\Users\\msalg\\AppData\\Local\\Programs\\Python\\Python310\\lib\\site-packages\\sklearn\\svm\\_base.py:1225: ConvergenceWarning: Liblinear failed to converge, increase the number of iterations.\n",
      "  warnings.warn(\n"
     ]
    },
    {
     "name": "stdout",
     "output_type": "stream",
     "text": [
      "C: 1, max_iter: 10000 --> Train Acc: 0.8427, Test Acc: 0.8371\n",
      "C: 1, max_iter: 20000 --> Train Acc: 0.8427, Test Acc: 0.8372\n"
     ]
    },
    {
     "name": "stderr",
     "output_type": "stream",
     "text": [
      "c:\\Users\\msalg\\AppData\\Local\\Programs\\Python\\Python310\\lib\\site-packages\\sklearn\\svm\\_base.py:1225: ConvergenceWarning: Liblinear failed to converge, increase the number of iterations.\n",
      "  warnings.warn(\n"
     ]
    }
   ],
   "source": [
    "C_values = [0.01, 0.1, 1]\n",
    "max_iter_values = [1000, 5000, 10000, 20000]\n",
    "\n",
    "for C in C_values:\n",
    "    for max_iter in max_iter_values:\n",
    "        clf = make_pipeline(StandardScaler(),\n",
    "                            LinearSVC(C=C, max_iter=max_iter, random_state=0))\n",
    "        clf.fit(X_train, y_train.ravel())\n",
    "\n",
    "        train_score = clf.score(X_train, y_train)\n",
    "        test_score = clf.score(X_test, y_test)\n",
    "\n",
    "        print(f\"C: {C}, max_iter: {max_iter} --> Train Acc: {train_score:.4f}, Test Acc: {test_score:.4f}\")"
   ]
  },
  {
   "cell_type": "markdown",
   "id": "53ec5b88-1ad4-460e-8c80-c30e6aa89519",
   "metadata": {},
   "source": [
    "### Conclusions\n",
    "\n",
    "Among the three types of SVM models tested, the **RBF kernel** provides the best performance, achieving an accuracy of **0.85**.  \n",
    "However, the other two models are not far behind, with only a **0.01** decrease in accuracy."
   ]
  },
  {
   "cell_type": "markdown",
   "id": "24936432-cebc-4328-88a5-2f9138cad344",
   "metadata": {},
   "source": [
    "## ENSEMBLE METHODS\n",
    "\n",
    "### Voting Classifier\n",
    "\n",
    "The Voting Classifier is an ensemble classification method where, instead of relying on a single classifier, multiple models are used to make predictions. This allows the final prediction to take into account the decisions of several classifiers.\n",
    "\n",
    "In this case, we will use the following classifiers:\n",
    "\n",
    "1. `LogisticRegression`  \n",
    "2. `RandomForestClassifier`  \n",
    "3. `SVC`"
   ]
  },
  {
   "cell_type": "code",
   "execution_count": 23,
   "id": "59f8400b-dab7-463e-97dd-73e3eb5ee161",
   "metadata": {},
   "outputs": [
    {
     "data": {
      "text/html": [
       "<style>#sk-container-id-1 {color: black;background-color: white;}#sk-container-id-1 pre{padding: 0;}#sk-container-id-1 div.sk-toggleable {background-color: white;}#sk-container-id-1 label.sk-toggleable__label {cursor: pointer;display: block;width: 100%;margin-bottom: 0;padding: 0.3em;box-sizing: border-box;text-align: center;}#sk-container-id-1 label.sk-toggleable__label-arrow:before {content: \"▸\";float: left;margin-right: 0.25em;color: #696969;}#sk-container-id-1 label.sk-toggleable__label-arrow:hover:before {color: black;}#sk-container-id-1 div.sk-estimator:hover label.sk-toggleable__label-arrow:before {color: black;}#sk-container-id-1 div.sk-toggleable__content {max-height: 0;max-width: 0;overflow: hidden;text-align: left;background-color: #f0f8ff;}#sk-container-id-1 div.sk-toggleable__content pre {margin: 0.2em;color: black;border-radius: 0.25em;background-color: #f0f8ff;}#sk-container-id-1 input.sk-toggleable__control:checked~div.sk-toggleable__content {max-height: 200px;max-width: 100%;overflow: auto;}#sk-container-id-1 input.sk-toggleable__control:checked~label.sk-toggleable__label-arrow:before {content: \"▾\";}#sk-container-id-1 div.sk-estimator input.sk-toggleable__control:checked~label.sk-toggleable__label {background-color: #d4ebff;}#sk-container-id-1 div.sk-label input.sk-toggleable__control:checked~label.sk-toggleable__label {background-color: #d4ebff;}#sk-container-id-1 input.sk-hidden--visually {border: 0;clip: rect(1px 1px 1px 1px);clip: rect(1px, 1px, 1px, 1px);height: 1px;margin: -1px;overflow: hidden;padding: 0;position: absolute;width: 1px;}#sk-container-id-1 div.sk-estimator {font-family: monospace;background-color: #f0f8ff;border: 1px dotted black;border-radius: 0.25em;box-sizing: border-box;margin-bottom: 0.5em;}#sk-container-id-1 div.sk-estimator:hover {background-color: #d4ebff;}#sk-container-id-1 div.sk-parallel-item::after {content: \"\";width: 100%;border-bottom: 1px solid gray;flex-grow: 1;}#sk-container-id-1 div.sk-label:hover label.sk-toggleable__label {background-color: #d4ebff;}#sk-container-id-1 div.sk-serial::before {content: \"\";position: absolute;border-left: 1px solid gray;box-sizing: border-box;top: 0;bottom: 0;left: 50%;z-index: 0;}#sk-container-id-1 div.sk-serial {display: flex;flex-direction: column;align-items: center;background-color: white;padding-right: 0.2em;padding-left: 0.2em;position: relative;}#sk-container-id-1 div.sk-item {position: relative;z-index: 1;}#sk-container-id-1 div.sk-parallel {display: flex;align-items: stretch;justify-content: center;background-color: white;position: relative;}#sk-container-id-1 div.sk-item::before, #sk-container-id-1 div.sk-parallel-item::before {content: \"\";position: absolute;border-left: 1px solid gray;box-sizing: border-box;top: 0;bottom: 0;left: 50%;z-index: -1;}#sk-container-id-1 div.sk-parallel-item {display: flex;flex-direction: column;z-index: 1;position: relative;background-color: white;}#sk-container-id-1 div.sk-parallel-item:first-child::after {align-self: flex-end;width: 50%;}#sk-container-id-1 div.sk-parallel-item:last-child::after {align-self: flex-start;width: 50%;}#sk-container-id-1 div.sk-parallel-item:only-child::after {width: 0;}#sk-container-id-1 div.sk-dashed-wrapped {border: 1px dashed gray;margin: 0 0.4em 0.5em 0.4em;box-sizing: border-box;padding-bottom: 0.4em;background-color: white;}#sk-container-id-1 div.sk-label label {font-family: monospace;font-weight: bold;display: inline-block;line-height: 1.2em;}#sk-container-id-1 div.sk-label-container {text-align: center;}#sk-container-id-1 div.sk-container {/* jupyter's `normalize.less` sets `[hidden] { display: none; }` but bootstrap.min.css set `[hidden] { display: none !important; }` so we also need the `!important` here to be able to override the default hidden behavior on the sphinx rendered scikit-learn.org. See: https://github.com/scikit-learn/scikit-learn/issues/21755 */display: inline-block !important;position: relative;}#sk-container-id-1 div.sk-text-repr-fallback {display: none;}</style><div id=\"sk-container-id-1\" class=\"sk-top-container\"><div class=\"sk-text-repr-fallback\"><pre>VotingClassifier(estimators=[(&#x27;lr&#x27;,\n",
       "                              LogisticRegression(max_iter=3000,\n",
       "                                                 random_state=42)),\n",
       "                             (&#x27;rf&#x27;, RandomForestClassifier(random_state=42)),\n",
       "                             (&#x27;svc&#x27;, SVC(random_state=42))])</pre><b>In a Jupyter environment, please rerun this cell to show the HTML representation or trust the notebook. <br />On GitHub, the HTML representation is unable to render, please try loading this page with nbviewer.org.</b></div><div class=\"sk-container\" hidden><div class=\"sk-item sk-dashed-wrapped\"><div class=\"sk-label-container\"><div class=\"sk-label sk-toggleable\"><input class=\"sk-toggleable__control sk-hidden--visually\" id=\"sk-estimator-id-1\" type=\"checkbox\" ><label for=\"sk-estimator-id-1\" class=\"sk-toggleable__label sk-toggleable__label-arrow\">VotingClassifier</label><div class=\"sk-toggleable__content\"><pre>VotingClassifier(estimators=[(&#x27;lr&#x27;,\n",
       "                              LogisticRegression(max_iter=3000,\n",
       "                                                 random_state=42)),\n",
       "                             (&#x27;rf&#x27;, RandomForestClassifier(random_state=42)),\n",
       "                             (&#x27;svc&#x27;, SVC(random_state=42))])</pre></div></div></div><div class=\"sk-parallel\"><div class=\"sk-parallel-item\"><div class=\"sk-item\"><div class=\"sk-label-container\"><div class=\"sk-label sk-toggleable\"><label>lr</label></div></div><div class=\"sk-serial\"><div class=\"sk-item\"><div class=\"sk-estimator sk-toggleable\"><input class=\"sk-toggleable__control sk-hidden--visually\" id=\"sk-estimator-id-2\" type=\"checkbox\" ><label for=\"sk-estimator-id-2\" class=\"sk-toggleable__label sk-toggleable__label-arrow\">LogisticRegression</label><div class=\"sk-toggleable__content\"><pre>LogisticRegression(max_iter=3000, random_state=42)</pre></div></div></div></div></div></div><div class=\"sk-parallel-item\"><div class=\"sk-item\"><div class=\"sk-label-container\"><div class=\"sk-label sk-toggleable\"><label>rf</label></div></div><div class=\"sk-serial\"><div class=\"sk-item\"><div class=\"sk-estimator sk-toggleable\"><input class=\"sk-toggleable__control sk-hidden--visually\" id=\"sk-estimator-id-3\" type=\"checkbox\" ><label for=\"sk-estimator-id-3\" class=\"sk-toggleable__label sk-toggleable__label-arrow\">RandomForestClassifier</label><div class=\"sk-toggleable__content\"><pre>RandomForestClassifier(random_state=42)</pre></div></div></div></div></div></div><div class=\"sk-parallel-item\"><div class=\"sk-item\"><div class=\"sk-label-container\"><div class=\"sk-label sk-toggleable\"><label>svc</label></div></div><div class=\"sk-serial\"><div class=\"sk-item\"><div class=\"sk-estimator sk-toggleable\"><input class=\"sk-toggleable__control sk-hidden--visually\" id=\"sk-estimator-id-4\" type=\"checkbox\" ><label for=\"sk-estimator-id-4\" class=\"sk-toggleable__label sk-toggleable__label-arrow\">SVC</label><div class=\"sk-toggleable__content\"><pre>SVC(random_state=42)</pre></div></div></div></div></div></div></div></div></div></div>"
      ],
      "text/plain": [
       "VotingClassifier(estimators=[('lr',\n",
       "                              LogisticRegression(max_iter=3000,\n",
       "                                                 random_state=42)),\n",
       "                             ('rf', RandomForestClassifier(random_state=42)),\n",
       "                             ('svc', SVC(random_state=42))])"
      ]
     },
     "execution_count": 23,
     "metadata": {},
     "output_type": "execute_result"
    }
   ],
   "source": [
    "voting_clf = VotingClassifier(\n",
    "    estimators = [\n",
    "        ('lr', LogisticRegression(random_state = 42, max_iter=3000)),\n",
    "        ('rf', RandomForestClassifier(random_state = 42)),\n",
    "        ('svc', SVC(random_state = 42))\n",
    "    ]   \n",
    ")\n",
    "voting_clf.fit(X_train, y_train)"
   ]
  },
  {
   "cell_type": "code",
   "execution_count": 24,
   "id": "58707ddd-5b67-4217-b8a8-1250dd93dfee",
   "metadata": {},
   "outputs": [
    {
     "name": "stdout",
     "output_type": "stream",
     "text": [
      "lr = 0.84\n",
      "rf = 0.85\n",
      "svc = 0.83\n"
     ]
    }
   ],
   "source": [
    "for name, clf in voting_clf.named_estimators_.items():\n",
    "    print(name, '=', round(clf.score(X_test, y_test), 2))"
   ]
  },
  {
   "cell_type": "markdown",
   "id": "4e912bd8-a89b-4f19-a8ae-d1a4d4cccc51",
   "metadata": {},
   "source": [
    "Using each classifier individually yields reasonably good results—comparable to those obtained with previous models.  \n",
    "However, we will now apply the voting method to see if combining these classifiers can improve the overall performance."
   ]
  },
  {
   "cell_type": "code",
   "execution_count": 25,
   "id": "71830b95-b2aa-4c8a-9914-72e6b300b8a5",
   "metadata": {},
   "outputs": [
    {
     "data": {
      "text/plain": [
       "0.842"
      ]
     },
     "execution_count": 25,
     "metadata": {},
     "output_type": "execute_result"
    }
   ],
   "source": [
    "round(voting_clf.score(X_test, y_test), 3)"
   ]
  },
  {
   "cell_type": "markdown",
   "id": "1f1ceaea-da0a-49fe-a1e3-55e828b72546",
   "metadata": {},
   "source": [
    "In this case, using **hard voting** did not yield better results.  \n",
    "Therefore, we will try **soft voting** to see if it improves the model's performance."
   ]
  },
  {
   "cell_type": "code",
   "execution_count": 26,
   "id": "ae6906e3-90ef-4a6b-8449-40c93d5b8b1d",
   "metadata": {},
   "outputs": [
    {
     "data": {
      "text/plain": [
       "0.84"
      ]
     },
     "execution_count": 26,
     "metadata": {},
     "output_type": "execute_result"
    }
   ],
   "source": [
    "voting_clf.voting = 'soft'\n",
    "voting_clf.named_estimators['svc'].probability = True\n",
    "voting_clf.fit(X_train, y_train)\n",
    "round(voting_clf.score(X_test, y_test), 2)"
   ]
  },
  {
   "cell_type": "markdown",
   "id": "fcd54cc3-a8cf-4e4d-acc4-783a06b733b6",
   "metadata": {},
   "source": [
    "The **soft voting** approach also did not improve the previous results.  \n",
    "As the next step, we will **scale the dataset** and reattempt the voting classifier to see if performance improves."
   ]
  },
  {
   "cell_type": "code",
   "execution_count": 27,
   "id": "58a3e18a-d627-40be-bc7e-307d731446ee",
   "metadata": {},
   "outputs": [
    {
     "data": {
      "text/html": [
       "<style>#sk-container-id-2 {color: black;background-color: white;}#sk-container-id-2 pre{padding: 0;}#sk-container-id-2 div.sk-toggleable {background-color: white;}#sk-container-id-2 label.sk-toggleable__label {cursor: pointer;display: block;width: 100%;margin-bottom: 0;padding: 0.3em;box-sizing: border-box;text-align: center;}#sk-container-id-2 label.sk-toggleable__label-arrow:before {content: \"▸\";float: left;margin-right: 0.25em;color: #696969;}#sk-container-id-2 label.sk-toggleable__label-arrow:hover:before {color: black;}#sk-container-id-2 div.sk-estimator:hover label.sk-toggleable__label-arrow:before {color: black;}#sk-container-id-2 div.sk-toggleable__content {max-height: 0;max-width: 0;overflow: hidden;text-align: left;background-color: #f0f8ff;}#sk-container-id-2 div.sk-toggleable__content pre {margin: 0.2em;color: black;border-radius: 0.25em;background-color: #f0f8ff;}#sk-container-id-2 input.sk-toggleable__control:checked~div.sk-toggleable__content {max-height: 200px;max-width: 100%;overflow: auto;}#sk-container-id-2 input.sk-toggleable__control:checked~label.sk-toggleable__label-arrow:before {content: \"▾\";}#sk-container-id-2 div.sk-estimator input.sk-toggleable__control:checked~label.sk-toggleable__label {background-color: #d4ebff;}#sk-container-id-2 div.sk-label input.sk-toggleable__control:checked~label.sk-toggleable__label {background-color: #d4ebff;}#sk-container-id-2 input.sk-hidden--visually {border: 0;clip: rect(1px 1px 1px 1px);clip: rect(1px, 1px, 1px, 1px);height: 1px;margin: -1px;overflow: hidden;padding: 0;position: absolute;width: 1px;}#sk-container-id-2 div.sk-estimator {font-family: monospace;background-color: #f0f8ff;border: 1px dotted black;border-radius: 0.25em;box-sizing: border-box;margin-bottom: 0.5em;}#sk-container-id-2 div.sk-estimator:hover {background-color: #d4ebff;}#sk-container-id-2 div.sk-parallel-item::after {content: \"\";width: 100%;border-bottom: 1px solid gray;flex-grow: 1;}#sk-container-id-2 div.sk-label:hover label.sk-toggleable__label {background-color: #d4ebff;}#sk-container-id-2 div.sk-serial::before {content: \"\";position: absolute;border-left: 1px solid gray;box-sizing: border-box;top: 0;bottom: 0;left: 50%;z-index: 0;}#sk-container-id-2 div.sk-serial {display: flex;flex-direction: column;align-items: center;background-color: white;padding-right: 0.2em;padding-left: 0.2em;position: relative;}#sk-container-id-2 div.sk-item {position: relative;z-index: 1;}#sk-container-id-2 div.sk-parallel {display: flex;align-items: stretch;justify-content: center;background-color: white;position: relative;}#sk-container-id-2 div.sk-item::before, #sk-container-id-2 div.sk-parallel-item::before {content: \"\";position: absolute;border-left: 1px solid gray;box-sizing: border-box;top: 0;bottom: 0;left: 50%;z-index: -1;}#sk-container-id-2 div.sk-parallel-item {display: flex;flex-direction: column;z-index: 1;position: relative;background-color: white;}#sk-container-id-2 div.sk-parallel-item:first-child::after {align-self: flex-end;width: 50%;}#sk-container-id-2 div.sk-parallel-item:last-child::after {align-self: flex-start;width: 50%;}#sk-container-id-2 div.sk-parallel-item:only-child::after {width: 0;}#sk-container-id-2 div.sk-dashed-wrapped {border: 1px dashed gray;margin: 0 0.4em 0.5em 0.4em;box-sizing: border-box;padding-bottom: 0.4em;background-color: white;}#sk-container-id-2 div.sk-label label {font-family: monospace;font-weight: bold;display: inline-block;line-height: 1.2em;}#sk-container-id-2 div.sk-label-container {text-align: center;}#sk-container-id-2 div.sk-container {/* jupyter's `normalize.less` sets `[hidden] { display: none; }` but bootstrap.min.css set `[hidden] { display: none !important; }` so we also need the `!important` here to be able to override the default hidden behavior on the sphinx rendered scikit-learn.org. See: https://github.com/scikit-learn/scikit-learn/issues/21755 */display: inline-block !important;position: relative;}#sk-container-id-2 div.sk-text-repr-fallback {display: none;}</style><div id=\"sk-container-id-2\" class=\"sk-top-container\"><div class=\"sk-text-repr-fallback\"><pre>Pipeline(steps=[(&#x27;standardscaler&#x27;, StandardScaler()),\n",
       "                (&#x27;votingclassifier&#x27;,\n",
       "                 VotingClassifier(estimators=[(&#x27;lr&#x27;,\n",
       "                                               LogisticRegression(max_iter=3000,\n",
       "                                                                  random_state=42)),\n",
       "                                              (&#x27;rf&#x27;,\n",
       "                                               RandomForestClassifier(random_state=42)),\n",
       "                                              (&#x27;svc&#x27;,\n",
       "                                               SVC(probability=True,\n",
       "                                                   random_state=42))],\n",
       "                                  voting=&#x27;soft&#x27;))])</pre><b>In a Jupyter environment, please rerun this cell to show the HTML representation or trust the notebook. <br />On GitHub, the HTML representation is unable to render, please try loading this page with nbviewer.org.</b></div><div class=\"sk-container\" hidden><div class=\"sk-item sk-dashed-wrapped\"><div class=\"sk-label-container\"><div class=\"sk-label sk-toggleable\"><input class=\"sk-toggleable__control sk-hidden--visually\" id=\"sk-estimator-id-5\" type=\"checkbox\" ><label for=\"sk-estimator-id-5\" class=\"sk-toggleable__label sk-toggleable__label-arrow\">Pipeline</label><div class=\"sk-toggleable__content\"><pre>Pipeline(steps=[(&#x27;standardscaler&#x27;, StandardScaler()),\n",
       "                (&#x27;votingclassifier&#x27;,\n",
       "                 VotingClassifier(estimators=[(&#x27;lr&#x27;,\n",
       "                                               LogisticRegression(max_iter=3000,\n",
       "                                                                  random_state=42)),\n",
       "                                              (&#x27;rf&#x27;,\n",
       "                                               RandomForestClassifier(random_state=42)),\n",
       "                                              (&#x27;svc&#x27;,\n",
       "                                               SVC(probability=True,\n",
       "                                                   random_state=42))],\n",
       "                                  voting=&#x27;soft&#x27;))])</pre></div></div></div><div class=\"sk-serial\"><div class=\"sk-item\"><div class=\"sk-estimator sk-toggleable\"><input class=\"sk-toggleable__control sk-hidden--visually\" id=\"sk-estimator-id-6\" type=\"checkbox\" ><label for=\"sk-estimator-id-6\" class=\"sk-toggleable__label sk-toggleable__label-arrow\">StandardScaler</label><div class=\"sk-toggleable__content\"><pre>StandardScaler()</pre></div></div></div><div class=\"sk-item sk-dashed-wrapped\"><div class=\"sk-label-container\"><div class=\"sk-label sk-toggleable\"><input class=\"sk-toggleable__control sk-hidden--visually\" id=\"sk-estimator-id-7\" type=\"checkbox\" ><label for=\"sk-estimator-id-7\" class=\"sk-toggleable__label sk-toggleable__label-arrow\">votingclassifier: VotingClassifier</label><div class=\"sk-toggleable__content\"><pre>VotingClassifier(estimators=[(&#x27;lr&#x27;,\n",
       "                              LogisticRegression(max_iter=3000,\n",
       "                                                 random_state=42)),\n",
       "                             (&#x27;rf&#x27;, RandomForestClassifier(random_state=42)),\n",
       "                             (&#x27;svc&#x27;, SVC(probability=True, random_state=42))],\n",
       "                 voting=&#x27;soft&#x27;)</pre></div></div></div><div class=\"sk-parallel\"><div class=\"sk-parallel-item\"><div class=\"sk-item\"><div class=\"sk-label-container\"><div class=\"sk-label sk-toggleable\"><label>lr</label></div></div><div class=\"sk-serial\"><div class=\"sk-item\"><div class=\"sk-estimator sk-toggleable\"><input class=\"sk-toggleable__control sk-hidden--visually\" id=\"sk-estimator-id-8\" type=\"checkbox\" ><label for=\"sk-estimator-id-8\" class=\"sk-toggleable__label sk-toggleable__label-arrow\">LogisticRegression</label><div class=\"sk-toggleable__content\"><pre>LogisticRegression(max_iter=3000, random_state=42)</pre></div></div></div></div></div></div><div class=\"sk-parallel-item\"><div class=\"sk-item\"><div class=\"sk-label-container\"><div class=\"sk-label sk-toggleable\"><label>rf</label></div></div><div class=\"sk-serial\"><div class=\"sk-item\"><div class=\"sk-estimator sk-toggleable\"><input class=\"sk-toggleable__control sk-hidden--visually\" id=\"sk-estimator-id-9\" type=\"checkbox\" ><label for=\"sk-estimator-id-9\" class=\"sk-toggleable__label sk-toggleable__label-arrow\">RandomForestClassifier</label><div class=\"sk-toggleable__content\"><pre>RandomForestClassifier(random_state=42)</pre></div></div></div></div></div></div><div class=\"sk-parallel-item\"><div class=\"sk-item\"><div class=\"sk-label-container\"><div class=\"sk-label sk-toggleable\"><label>svc</label></div></div><div class=\"sk-serial\"><div class=\"sk-item\"><div class=\"sk-estimator sk-toggleable\"><input class=\"sk-toggleable__control sk-hidden--visually\" id=\"sk-estimator-id-10\" type=\"checkbox\" ><label for=\"sk-estimator-id-10\" class=\"sk-toggleable__label sk-toggleable__label-arrow\">SVC</label><div class=\"sk-toggleable__content\"><pre>SVC(probability=True, random_state=42)</pre></div></div></div></div></div></div></div></div></div></div></div></div>"
      ],
      "text/plain": [
       "Pipeline(steps=[('standardscaler', StandardScaler()),\n",
       "                ('votingclassifier',\n",
       "                 VotingClassifier(estimators=[('lr',\n",
       "                                               LogisticRegression(max_iter=3000,\n",
       "                                                                  random_state=42)),\n",
       "                                              ('rf',\n",
       "                                               RandomForestClassifier(random_state=42)),\n",
       "                                              ('svc',\n",
       "                                               SVC(probability=True,\n",
       "                                                   random_state=42))],\n",
       "                                  voting='soft'))])"
      ]
     },
     "execution_count": 27,
     "metadata": {},
     "output_type": "execute_result"
    }
   ],
   "source": [
    "pipeline = make_pipeline(StandardScaler(),\n",
    "                         voting_clf)\n",
    "pipeline.fit(X_train, y_train)"
   ]
  },
  {
   "cell_type": "markdown",
   "id": "24cbd612-a34a-4ac9-a155-1c27a022c4d1",
   "metadata": {},
   "source": [
    "After scaling the dataset, we achieved a slight improvement in the model's performance—by just one decimal point.  \n",
    "Since the improvement is not significant, we will now move on to the next methods."
   ]
  },
  {
   "cell_type": "code",
   "execution_count": 28,
   "id": "f7ed8155-377f-4b48-9932-c2a7ff20b9c8",
   "metadata": {},
   "outputs": [
    {
     "data": {
      "text/plain": [
       "0.849"
      ]
     },
     "execution_count": 28,
     "metadata": {},
     "output_type": "execute_result"
    }
   ],
   "source": [
    "round(pipeline.score(X_test, y_test), 3)"
   ]
  },
  {
   "cell_type": "markdown",
   "id": "3127c1e5-d432-4b61-80b2-6af3c914dce6",
   "metadata": {},
   "source": [
    "### Bagging Method\n",
    "\n",
    "The next method we will use is **Bagging**, where a single type of classifier (in this case, **DecisionTree**) is used. However, unlike other methods, multiple classifiers of this type are trained, each with a subset of the dataframe samples. This allows the model to generate predictions in a more balanced way.\n",
    "\n",
    "We will again use two nested loops to test different values for the parameters related to the number of estimators and the maximum number of samples."
   ]
  },
  {
   "cell_type": "code",
   "execution_count": 27,
   "id": "f5efc734",
   "metadata": {},
   "outputs": [
    {
     "name": "stdout",
     "output_type": "stream",
     "text": [
      "n_estimators: 300, max_samples: 1000 --> Train Acc: 0.8509, Test Acc: 0.8442\n",
      "n_estimators: 300, max_samples: 2500 --> Train Acc: 0.8567, Test Acc: 0.8474\n",
      "n_estimators: 300, max_samples: 3300 --> Train Acc: 0.8580, Test Acc: 0.8489\n",
      "n_estimators: 500, max_samples: 1000 --> Train Acc: 0.8513, Test Acc: 0.8440\n",
      "n_estimators: 500, max_samples: 2500 --> Train Acc: 0.8563, Test Acc: 0.8477\n",
      "n_estimators: 500, max_samples: 3300 --> Train Acc: 0.8585, Test Acc: 0.8489\n",
      "n_estimators: 800, max_samples: 1000 --> Train Acc: 0.8512, Test Acc: 0.8442\n",
      "n_estimators: 800, max_samples: 2500 --> Train Acc: 0.8565, Test Acc: 0.8469\n",
      "n_estimators: 800, max_samples: 3300 --> Train Acc: 0.8587, Test Acc: 0.8487\n",
      "n_estimators: 1000, max_samples: 1000 --> Train Acc: 0.8512, Test Acc: 0.8447\n",
      "n_estimators: 1000, max_samples: 2500 --> Train Acc: 0.8569, Test Acc: 0.8469\n",
      "n_estimators: 1000, max_samples: 3300 --> Train Acc: 0.8587, Test Acc: 0.8484\n"
     ]
    }
   ],
   "source": [
    "n_estimators_list = [300, 500, 800, 1000]\n",
    "max_samples_list = [1000, 2500, 3300]\n",
    "\n",
    "for n_estimators in n_estimators_list:\n",
    "    for max_samples in max_samples_list:\n",
    "        bag_clf = BaggingClassifier(\n",
    "            base_estimator=DecisionTreeClassifier(),\n",
    "            n_estimators=n_estimators,\n",
    "            max_samples=max_samples,\n",
    "            n_jobs=-1,\n",
    "            random_state=42\n",
    "        )\n",
    "        bag_clf.fit(X_train, y_train.ravel())\n",
    "\n",
    "        train_score = bag_clf.score(X_train, y_train)\n",
    "        test_score = bag_clf.score(X_test, y_test)\n",
    "\n",
    "        print(f\"n_estimators: {n_estimators}, max_samples: {max_samples} --> Train Acc: {train_score:.4f}, Test Acc: {test_score:.4f}\")"
   ]
  },
  {
   "cell_type": "markdown",
   "id": "45c65589-0b8f-4c8a-a79f-42d64f4f2cf8",
   "metadata": {},
   "source": [
    "In this case, we obtain the same accuracy percentage as in the previous methods.\n",
    "\n",
    "To assess the reliability of the model we’ve created, we can test it with **out-of-bag** (OOB) points. These are points (different in each estimator) that are excluded from the model during training. In each estimator, the data is split into 63% for training and 37% for testing. The OOB points are tested in their respective models, and the final classification is determined through soft voting. To enable this, we must set the `oob_score` parameter to **True**."
   ]
  },
  {
   "cell_type": "code",
   "execution_count": 28,
   "id": "3d22f8bf-20c6-40ef-9017-be5df362834a",
   "metadata": {},
   "outputs": [
    {
     "data": {
      "text/plain": [
       "0.851"
      ]
     },
     "execution_count": 28,
     "metadata": {},
     "output_type": "execute_result"
    }
   ],
   "source": [
    "bag_clf = BaggingClassifier(DecisionTreeClassifier(), n_estimators=500,\n",
    "                             oob_score=True , max_samples = 3300, n_jobs=-1, random_state = 42)\n",
    "bag_clf.fit(X_train, y_train)\n",
    "round(bag_clf.oob_score_, 3)"
   ]
  },
  {
   "cell_type": "markdown",
   "id": "334628f0-36c8-4155-9e46-f2eaacc18254",
   "metadata": {},
   "source": [
    "We can confirm that the method is reliable, as we achieve an accuracy even higher than the previous methods."
   ]
  },
  {
   "cell_type": "markdown",
   "id": "3b08e64f-d050-4a4f-a141-70706b85eeef",
   "metadata": {},
   "source": [
    "### Random Forest Classifier\n",
    "\n",
    "The **Random Forest** classifier is equivalent to using a **DecisionTreeClassifier** within a **BaggingClassifier**, so both processes should yield the same result.  \n",
    "We will create the **Random Forest** classifier with the necessary parameters, such as the number of estimators and the maximum number of leaves/levels."
   ]
  },
  {
   "cell_type": "code",
   "execution_count": 29,
   "id": "7c710036",
   "metadata": {},
   "outputs": [
    {
     "name": "stdout",
     "output_type": "stream",
     "text": [
      "n_estimators: 100, max_leaf_nodes: 10 --> Train Acc: 0.8286, Test Acc: 0.8233\n",
      "n_estimators: 100, max_leaf_nodes: 16 --> Train Acc: 0.8341, Test Acc: 0.8290\n",
      "n_estimators: 100, max_leaf_nodes: 32 --> Train Acc: 0.8411, Test Acc: 0.8352\n",
      "n_estimators: 100, max_leaf_nodes: 48 --> Train Acc: 0.8446, Test Acc: 0.8383\n",
      "n_estimators: 300, max_leaf_nodes: 10 --> Train Acc: 0.8290, Test Acc: 0.8242\n",
      "n_estimators: 300, max_leaf_nodes: 16 --> Train Acc: 0.8353, Test Acc: 0.8304\n",
      "n_estimators: 300, max_leaf_nodes: 32 --> Train Acc: 0.8426, Test Acc: 0.8365\n",
      "n_estimators: 300, max_leaf_nodes: 48 --> Train Acc: 0.8453, Test Acc: 0.8389\n",
      "n_estimators: 500, max_leaf_nodes: 10 --> Train Acc: 0.8292, Test Acc: 0.8246\n",
      "n_estimators: 500, max_leaf_nodes: 16 --> Train Acc: 0.8362, Test Acc: 0.8311\n",
      "n_estimators: 500, max_leaf_nodes: 32 --> Train Acc: 0.8428, Test Acc: 0.8372\n",
      "n_estimators: 500, max_leaf_nodes: 48 --> Train Acc: 0.8458, Test Acc: 0.8394\n",
      "n_estimators: 800, max_leaf_nodes: 10 --> Train Acc: 0.8293, Test Acc: 0.8249\n",
      "n_estimators: 800, max_leaf_nodes: 16 --> Train Acc: 0.8359, Test Acc: 0.8309\n",
      "n_estimators: 800, max_leaf_nodes: 32 --> Train Acc: 0.8430, Test Acc: 0.8368\n",
      "n_estimators: 800, max_leaf_nodes: 48 --> Train Acc: 0.8457, Test Acc: 0.8396\n"
     ]
    }
   ],
   "source": [
    "n_estimators_list = [100, 300, 500, 800]\n",
    "max_leaf_nodes_list = [10, 16, 32, 48]\n",
    "\n",
    "for n_estimators in n_estimators_list:\n",
    "    for max_leaf_nodes in max_leaf_nodes_list:\n",
    "        rnd_clf = RandomForestClassifier(\n",
    "            n_estimators=n_estimators,\n",
    "            max_leaf_nodes=max_leaf_nodes,\n",
    "            n_jobs=-1,\n",
    "            random_state=42\n",
    "        )\n",
    "        rnd_clf.fit(X_train, y_train.ravel())\n",
    "\n",
    "        train_score = rnd_clf.score(X_train, y_train)\n",
    "        test_score = rnd_clf.score(X_test, y_test)\n",
    "\n",
    "        print(f\"n_estimators: {n_estimators}, max_leaf_nodes: {max_leaf_nodes} --> Train Acc: {train_score:.4f}, Test Acc: {test_score:.4f}\")"
   ]
  },
  {
   "cell_type": "markdown",
   "id": "cfd34450-8c1a-4c2f-9c2f-9af6fecc2c6a",
   "metadata": {},
   "source": [
    "#### Feature Importance with Random Forest\n",
    "\n",
    "Now, let's examine the **feature importance** using Random Forest, as it is an excellent method for identifying which attributes are most important for classifying the data. This will help us discard irrelevant features."
   ]
  },
  {
   "cell_type": "code",
   "execution_count": 37,
   "id": "303df060-42bf-4ea4-97ad-2f8c23196bbc",
   "metadata": {},
   "outputs": [
    {
     "data": {
      "text/html": [
       "<style>#sk-container-id-5 {color: black;background-color: white;}#sk-container-id-5 pre{padding: 0;}#sk-container-id-5 div.sk-toggleable {background-color: white;}#sk-container-id-5 label.sk-toggleable__label {cursor: pointer;display: block;width: 100%;margin-bottom: 0;padding: 0.3em;box-sizing: border-box;text-align: center;}#sk-container-id-5 label.sk-toggleable__label-arrow:before {content: \"▸\";float: left;margin-right: 0.25em;color: #696969;}#sk-container-id-5 label.sk-toggleable__label-arrow:hover:before {color: black;}#sk-container-id-5 div.sk-estimator:hover label.sk-toggleable__label-arrow:before {color: black;}#sk-container-id-5 div.sk-toggleable__content {max-height: 0;max-width: 0;overflow: hidden;text-align: left;background-color: #f0f8ff;}#sk-container-id-5 div.sk-toggleable__content pre {margin: 0.2em;color: black;border-radius: 0.25em;background-color: #f0f8ff;}#sk-container-id-5 input.sk-toggleable__control:checked~div.sk-toggleable__content {max-height: 200px;max-width: 100%;overflow: auto;}#sk-container-id-5 input.sk-toggleable__control:checked~label.sk-toggleable__label-arrow:before {content: \"▾\";}#sk-container-id-5 div.sk-estimator input.sk-toggleable__control:checked~label.sk-toggleable__label {background-color: #d4ebff;}#sk-container-id-5 div.sk-label input.sk-toggleable__control:checked~label.sk-toggleable__label {background-color: #d4ebff;}#sk-container-id-5 input.sk-hidden--visually {border: 0;clip: rect(1px 1px 1px 1px);clip: rect(1px, 1px, 1px, 1px);height: 1px;margin: -1px;overflow: hidden;padding: 0;position: absolute;width: 1px;}#sk-container-id-5 div.sk-estimator {font-family: monospace;background-color: #f0f8ff;border: 1px dotted black;border-radius: 0.25em;box-sizing: border-box;margin-bottom: 0.5em;}#sk-container-id-5 div.sk-estimator:hover {background-color: #d4ebff;}#sk-container-id-5 div.sk-parallel-item::after {content: \"\";width: 100%;border-bottom: 1px solid gray;flex-grow: 1;}#sk-container-id-5 div.sk-label:hover label.sk-toggleable__label {background-color: #d4ebff;}#sk-container-id-5 div.sk-serial::before {content: \"\";position: absolute;border-left: 1px solid gray;box-sizing: border-box;top: 0;bottom: 0;left: 50%;z-index: 0;}#sk-container-id-5 div.sk-serial {display: flex;flex-direction: column;align-items: center;background-color: white;padding-right: 0.2em;padding-left: 0.2em;position: relative;}#sk-container-id-5 div.sk-item {position: relative;z-index: 1;}#sk-container-id-5 div.sk-parallel {display: flex;align-items: stretch;justify-content: center;background-color: white;position: relative;}#sk-container-id-5 div.sk-item::before, #sk-container-id-5 div.sk-parallel-item::before {content: \"\";position: absolute;border-left: 1px solid gray;box-sizing: border-box;top: 0;bottom: 0;left: 50%;z-index: -1;}#sk-container-id-5 div.sk-parallel-item {display: flex;flex-direction: column;z-index: 1;position: relative;background-color: white;}#sk-container-id-5 div.sk-parallel-item:first-child::after {align-self: flex-end;width: 50%;}#sk-container-id-5 div.sk-parallel-item:last-child::after {align-self: flex-start;width: 50%;}#sk-container-id-5 div.sk-parallel-item:only-child::after {width: 0;}#sk-container-id-5 div.sk-dashed-wrapped {border: 1px dashed gray;margin: 0 0.4em 0.5em 0.4em;box-sizing: border-box;padding-bottom: 0.4em;background-color: white;}#sk-container-id-5 div.sk-label label {font-family: monospace;font-weight: bold;display: inline-block;line-height: 1.2em;}#sk-container-id-5 div.sk-label-container {text-align: center;}#sk-container-id-5 div.sk-container {/* jupyter's `normalize.less` sets `[hidden] { display: none; }` but bootstrap.min.css set `[hidden] { display: none !important; }` so we also need the `!important` here to be able to override the default hidden behavior on the sphinx rendered scikit-learn.org. See: https://github.com/scikit-learn/scikit-learn/issues/21755 */display: inline-block !important;position: relative;}#sk-container-id-5 div.sk-text-repr-fallback {display: none;}</style><div id=\"sk-container-id-5\" class=\"sk-top-container\"><div class=\"sk-text-repr-fallback\"><pre>RandomForestClassifier(n_estimators=500, random_state=42)</pre><b>In a Jupyter environment, please rerun this cell to show the HTML representation or trust the notebook. <br />On GitHub, the HTML representation is unable to render, please try loading this page with nbviewer.org.</b></div><div class=\"sk-container\" hidden><div class=\"sk-item\"><div class=\"sk-estimator sk-toggleable\"><input class=\"sk-toggleable__control sk-hidden--visually\" id=\"sk-estimator-id-17\" type=\"checkbox\" checked><label for=\"sk-estimator-id-17\" class=\"sk-toggleable__label sk-toggleable__label-arrow\">RandomForestClassifier</label><div class=\"sk-toggleable__content\"><pre>RandomForestClassifier(n_estimators=500, random_state=42)</pre></div></div></div></div></div>"
      ],
      "text/plain": [
       "RandomForestClassifier(n_estimators=500, random_state=42)"
      ]
     },
     "execution_count": 37,
     "metadata": {},
     "output_type": "execute_result"
    }
   ],
   "source": [
    "rnd_clf = RandomForestClassifier(n_estimators=500, random_state=42)\n",
    "rnd_clf.fit(X, Y)"
   ]
  },
  {
   "cell_type": "markdown",
   "id": "b3671ea3-1d7d-4763-a162-0ca73ca01330",
   "metadata": {},
   "source": [
    "We can confirm that there is no variable that should be clearly removed, as none of them have a particularly low importance value."
   ]
  },
  {
   "cell_type": "code",
   "execution_count": 38,
   "id": "6ac1ddd0-bf36-49c7-bdc8-72dc4f67cc80",
   "metadata": {},
   "outputs": [
    {
     "name": "stdout",
     "output_type": "stream",
     "text": [
      "0.05 Location\n",
      "0.07 MinTemp\n",
      "0.07 MaxTemp\n",
      "0.06 Rainfall\n",
      "0.04 WindGustDir\n",
      "0.07 WindGustSpeed\n",
      "0.04 WindDir9am\n",
      "0.04 WindDir3pm\n",
      "0.04 WindSpeed9am\n",
      "0.05 WindSpeed3pm\n",
      "0.08 Humidity9am\n",
      "0.21 Humidity3pm\n",
      "0.07 Pressure9am\n",
      "0.08 Pressure3pm\n",
      "0.03 RainToday\n"
     ]
    }
   ],
   "source": [
    "for score, name in zip(rnd_clf.feature_importances_, X.columns):\n",
    "    print(round(score, 2), name)"
   ]
  },
  {
   "cell_type": "markdown",
   "id": "8b2af08a-7e68-4d1e-89cc-0a844a3191b0",
   "metadata": {},
   "source": [
    "Thanks to this, we can discard certain irrelevant attributes that may worsen the result, as they don't contribute much to classifying the data.  \n",
    "Another method we could use is to analyze the **correlation matrix** of the data and discard variables that are highly correlated with each other or poorly correlated with the target variable.  \n",
    "This feature selection method was already applied at the end of the data cleaning and preprocessing phase."
   ]
  },
  {
   "cell_type": "markdown",
   "id": "72b01d6c-de4b-45b9-9452-4349fd890385",
   "metadata": {},
   "source": [
    "### Boosting Method\n",
    "\n",
    "Next, we will test the **Boosting** method, where a classifier is used iteratively. In each iteration, the model learns and attempts to correct previous errors by placing more importance on the points it misclassified. The **learning rate** parameter can be adjusted to control how much weight is given to the incorrectly predicted points.\n",
    "\n",
    "We will use a loop to find the optimal values for **n_estimators** and **learning_rate** that yield the best solution."
   ]
  },
  {
   "cell_type": "code",
   "execution_count": 39,
   "id": "ed9d239e-89ad-4abf-b1b9-4ec17dec7569",
   "metadata": {},
   "outputs": [
    {
     "data": {
      "text/html": [
       "<div>\n",
       "<style scoped>\n",
       "    .dataframe tbody tr th:only-of-type {\n",
       "        vertical-align: middle;\n",
       "    }\n",
       "\n",
       "    .dataframe tbody tr th {\n",
       "        vertical-align: top;\n",
       "    }\n",
       "\n",
       "    .dataframe thead th {\n",
       "        text-align: right;\n",
       "    }\n",
       "</style>\n",
       "<table border=\"1\" class=\"dataframe\">\n",
       "  <thead>\n",
       "    <tr style=\"text-align: right;\">\n",
       "      <th></th>\n",
       "      <th>n_estimators</th>\n",
       "      <th>learning_rate</th>\n",
       "      <th>Testing score</th>\n",
       "    </tr>\n",
       "  </thead>\n",
       "  <tbody>\n",
       "    <tr>\n",
       "      <th>0</th>\n",
       "      <td>70.0</td>\n",
       "      <td>0.2</td>\n",
       "      <td>0.839248</td>\n",
       "    </tr>\n",
       "    <tr>\n",
       "      <th>1</th>\n",
       "      <td>80.0</td>\n",
       "      <td>0.2</td>\n",
       "      <td>0.839191</td>\n",
       "    </tr>\n",
       "    <tr>\n",
       "      <th>2</th>\n",
       "      <td>90.0</td>\n",
       "      <td>0.2</td>\n",
       "      <td>0.839702</td>\n",
       "    </tr>\n",
       "    <tr>\n",
       "      <th>3</th>\n",
       "      <td>100.0</td>\n",
       "      <td>0.2</td>\n",
       "      <td>0.839958</td>\n",
       "    </tr>\n",
       "    <tr>\n",
       "      <th>4</th>\n",
       "      <td>110.0</td>\n",
       "      <td>0.2</td>\n",
       "      <td>0.840157</td>\n",
       "    </tr>\n",
       "    <tr>\n",
       "      <th>5</th>\n",
       "      <td>70.0</td>\n",
       "      <td>0.4</td>\n",
       "      <td>0.840270</td>\n",
       "    </tr>\n",
       "    <tr>\n",
       "      <th>6</th>\n",
       "      <td>80.0</td>\n",
       "      <td>0.4</td>\n",
       "      <td>0.840839</td>\n",
       "    </tr>\n",
       "    <tr>\n",
       "      <th>7</th>\n",
       "      <td>90.0</td>\n",
       "      <td>0.4</td>\n",
       "      <td>0.840867</td>\n",
       "    </tr>\n",
       "    <tr>\n",
       "      <th>8</th>\n",
       "      <td>100.0</td>\n",
       "      <td>0.4</td>\n",
       "      <td>0.841208</td>\n",
       "    </tr>\n",
       "    <tr>\n",
       "      <th>9</th>\n",
       "      <td>110.0</td>\n",
       "      <td>0.4</td>\n",
       "      <td>0.840981</td>\n",
       "    </tr>\n",
       "    <tr>\n",
       "      <th>10</th>\n",
       "      <td>70.0</td>\n",
       "      <td>0.6</td>\n",
       "      <td>0.839986</td>\n",
       "    </tr>\n",
       "    <tr>\n",
       "      <th>11</th>\n",
       "      <td>80.0</td>\n",
       "      <td>0.6</td>\n",
       "      <td>0.840725</td>\n",
       "    </tr>\n",
       "    <tr>\n",
       "      <th>12</th>\n",
       "      <td>90.0</td>\n",
       "      <td>0.6</td>\n",
       "      <td>0.841293</td>\n",
       "    </tr>\n",
       "    <tr>\n",
       "      <th>13</th>\n",
       "      <td>100.0</td>\n",
       "      <td>0.6</td>\n",
       "      <td>0.841407</td>\n",
       "    </tr>\n",
       "    <tr>\n",
       "      <th>14</th>\n",
       "      <td>110.0</td>\n",
       "      <td>0.6</td>\n",
       "      <td>0.841776</td>\n",
       "    </tr>\n",
       "  </tbody>\n",
       "</table>\n",
       "</div>"
      ],
      "text/plain": [
       "    n_estimators  learning_rate  Testing score\n",
       "0           70.0            0.2       0.839248\n",
       "1           80.0            0.2       0.839191\n",
       "2           90.0            0.2       0.839702\n",
       "3          100.0            0.2       0.839958\n",
       "4          110.0            0.2       0.840157\n",
       "5           70.0            0.4       0.840270\n",
       "6           80.0            0.4       0.840839\n",
       "7           90.0            0.4       0.840867\n",
       "8          100.0            0.4       0.841208\n",
       "9          110.0            0.4       0.840981\n",
       "10          70.0            0.6       0.839986\n",
       "11          80.0            0.6       0.840725\n",
       "12          90.0            0.6       0.841293\n",
       "13         100.0            0.6       0.841407\n",
       "14         110.0            0.6       0.841776"
      ]
     },
     "execution_count": 39,
     "metadata": {},
     "output_type": "execute_result"
    }
   ],
   "source": [
    "df_boost = pd.DataFrame(columns=['n_estimators', 'learning_rate', 'Testing score'])\n",
    "\n",
    "for c in range(1,4):\n",
    "    for k in range(5,10):\n",
    "        coef = c*0.2\n",
    "        n = k*10 + 20\n",
    "        ada_clf = AdaBoostClassifier(DecisionTreeClassifier(max_depth = 1), n_estimators = n,\n",
    "                             learning_rate = coef, random_state = 42)\n",
    "        \n",
    "        ada_clf.fit(X_train, y_train)\n",
    "\n",
    "        df_boost.loc[len(df_boost)] = [n, coef, ada_clf.score(X_test, y_test)]\n",
    "\n",
    "df_boost"
   ]
  },
  {
   "cell_type": "markdown",
   "id": "bceb8d63-8a04-43ca-8db8-bc21626c4a7a",
   "metadata": {},
   "source": [
    "In this way, we can select the parameter values that optimize the prediction performance."
   ]
  },
  {
   "cell_type": "code",
   "execution_count": 40,
   "id": "f1e3dfa5-ff95-4b39-adb9-6a2db0e4bf3d",
   "metadata": {},
   "outputs": [
    {
     "data": {
      "text/html": [
       "<div>\n",
       "<style scoped>\n",
       "    .dataframe tbody tr th:only-of-type {\n",
       "        vertical-align: middle;\n",
       "    }\n",
       "\n",
       "    .dataframe tbody tr th {\n",
       "        vertical-align: top;\n",
       "    }\n",
       "\n",
       "    .dataframe thead th {\n",
       "        text-align: right;\n",
       "    }\n",
       "</style>\n",
       "<table border=\"1\" class=\"dataframe\">\n",
       "  <thead>\n",
       "    <tr style=\"text-align: right;\">\n",
       "      <th></th>\n",
       "      <th>n_estimators</th>\n",
       "      <th>learning_rate</th>\n",
       "      <th>Testing score</th>\n",
       "    </tr>\n",
       "  </thead>\n",
       "  <tbody>\n",
       "    <tr>\n",
       "      <th>14</th>\n",
       "      <td>110.0</td>\n",
       "      <td>0.6</td>\n",
       "      <td>0.841776</td>\n",
       "    </tr>\n",
       "  </tbody>\n",
       "</table>\n",
       "</div>"
      ],
      "text/plain": [
       "    n_estimators  learning_rate  Testing score\n",
       "14         110.0            0.6       0.841776"
      ]
     },
     "metadata": {},
     "output_type": "display_data"
    }
   ],
   "source": [
    "display(df_boost[df_boost['Testing score'] == df_boost['Testing score'].max()])"
   ]
  },
  {
   "cell_type": "markdown",
   "id": "31c99062-d88e-443a-a4df-9b37b27c8c42",
   "metadata": {},
   "source": [
    "We manage to slightly improve the score."
   ]
  },
  {
   "cell_type": "code",
   "execution_count": 54,
   "id": "e2965c67-1662-4b3b-a447-9b9f69e18a6c",
   "metadata": {},
   "outputs": [
    {
     "name": "stderr",
     "output_type": "stream",
     "text": [
      "C:\\Users\\msalg\\AppData\\Local\\Programs\\Python\\Python310\\lib\\site-packages\\sklearn\\model_selection\\_search.py:306: UserWarning: The total space of parameters 4 is smaller than n_iter=10. Running 4 iterations. For exhaustive searches, use GridSearchCV.\n",
      "  warnings.warn(\n",
      "C:\\Users\\msalg\\AppData\\Local\\Programs\\Python\\Python310\\lib\\site-packages\\sklearn\\utils\\deprecation.py:87: FutureWarning: Function plot_confusion_matrix is deprecated; Function `plot_confusion_matrix` is deprecated in 1.0 and will be removed in 1.2. Use one of the class methods: ConfusionMatrixDisplay.from_predictions or ConfusionMatrixDisplay.from_estimator.\n",
      "  warnings.warn(msg, category=FutureWarning)\n"
     ]
    },
    {
     "name": "stdout",
     "output_type": "stream",
     "text": [
      "              precision    recall  f1-score   support\n",
      "\n",
      "           0       0.88      0.95      0.91     27306\n",
      "           1       0.76      0.53      0.62      7891\n",
      "\n",
      "    accuracy                           0.86     35197\n",
      "   macro avg       0.82      0.74      0.77     35197\n",
      "weighted avg       0.85      0.86      0.85     35197\n",
      "\n",
      "Test set R²: 85.69%\n"
     ]
    },
    {
     "data": {
      "image/png": "[encoded data removed]",
      "text/plain": [
       "<Figure size 640x480 with 2 Axes>"
      ]
     },
     "metadata": {},
     "output_type": "display_data"
    }
   ],
   "source": [
    "from sklearn.ensemble import GradientBoostingClassifier\n",
    "from sklearn.model_selection import RandomizedSearchCV\n",
    "from sklearn.metrics import classification_report\n",
    "from sklearn.metrics import plot_confusion_matrix\n",
    "\n",
    "params = {\n",
    "    \"max_depth\": [5,7],\n",
    "    \"max_features\": [\"sqrt\", None]}\n",
    "boosting_algo = GradientBoostingClassifier()\n",
    "boosting_algo_cv = RandomizedSearchCV(boosting_algo, params, cv = 5)\n",
    "boosting_algo_cv.fit(X_train, y_train)\n",
    "\n",
    "pred = boosting_algo_cv.predict(X_test)\n",
    "plot_confusion_matrix(boosting_algo_cv,X_test,y_test)\n",
    "print(classification_report(y_test, pred))\n",
    "print(\"Test set R\\N{SUPERSCRIPT TWO}: %.2f%%\" % (boosting_algo_cv.score(X_test, y_test)*100.0))"
   ]
  },
  {
   "cell_type": "markdown",
   "id": "4f81c85c-24bb-440d-9227-fa37dda0695e",
   "metadata": {},
   "source": [
    "### Stacking Method\n",
    "\n",
    "The next method we will analyze is **Stacking**, which involves making predictions on the entire dataset with different classifiers (that are not highly correlated). In the second phase, a final classifier is used to make predictions based on the outputs from the previous classifiers. The **CV** parameter refers to **cross-validation**, specifying how many groups the dataset is split into for training (CV-1) and validation (1). In this case, we will use **CV=6**.\n",
    "\n",
    "We will use the classifiers we applied earlier:\n",
    "\n",
    "1. `LogisticRegression`  \n",
    "2. `RandomForestClassifier`  \n",
    "3. `SVC`\n",
    "\n",
    "And as the final classifier, we will use `RandomForestClassifier`."
   ]
  },
  {
   "cell_type": "code",
   "execution_count": 42,
   "id": "3df71626-d03b-4325-971d-0ef65bcfd0a7",
   "metadata": {},
   "outputs": [],
   "source": [
    "stacking_clf = StackingClassifier(\n",
    "    estimators=[\n",
    "        ('lr', LogisticRegression(random_state=42)),\n",
    "        ('rf', RandomForestClassifier(random_state=42)),\n",
    "        ('svc', SVC(probability=True, random_state=42))\n",
    "    ],\n",
    "    final_estimator = RandomForestClassifier(random_state=42),\n",
    "    cv = 6\n",
    ")"
   ]
  },
  {
   "cell_type": "markdown",
   "id": "024e089d-6071-4c10-afc2-efee45116887",
   "metadata": {},
   "source": [
    "We will use a **pipeline** to test the method, scaling the data beforehand."
   ]
  },
  {
   "cell_type": "code",
   "execution_count": 43,
   "id": "617eeca8-bf3d-49c5-8db5-79bd998c391e",
   "metadata": {},
   "outputs": [],
   "source": [
    "pipeline = make_pipeline(StandardScaler(),\n",
    "                         stacking_clf)"
   ]
  },
  {
   "cell_type": "code",
   "execution_count": 44,
   "id": "3e7e51d0-55da-411f-b53b-0c54b9f0bb50",
   "metadata": {},
   "outputs": [
    {
     "data": {
      "text/html": [
       "<style>#sk-container-id-6 {color: black;background-color: white;}#sk-container-id-6 pre{padding: 0;}#sk-container-id-6 div.sk-toggleable {background-color: white;}#sk-container-id-6 label.sk-toggleable__label {cursor: pointer;display: block;width: 100%;margin-bottom: 0;padding: 0.3em;box-sizing: border-box;text-align: center;}#sk-container-id-6 label.sk-toggleable__label-arrow:before {content: \"▸\";float: left;margin-right: 0.25em;color: #696969;}#sk-container-id-6 label.sk-toggleable__label-arrow:hover:before {color: black;}#sk-container-id-6 div.sk-estimator:hover label.sk-toggleable__label-arrow:before {color: black;}#sk-container-id-6 div.sk-toggleable__content {max-height: 0;max-width: 0;overflow: hidden;text-align: left;background-color: #f0f8ff;}#sk-container-id-6 div.sk-toggleable__content pre {margin: 0.2em;color: black;border-radius: 0.25em;background-color: #f0f8ff;}#sk-container-id-6 input.sk-toggleable__control:checked~div.sk-toggleable__content {max-height: 200px;max-width: 100%;overflow: auto;}#sk-container-id-6 input.sk-toggleable__control:checked~label.sk-toggleable__label-arrow:before {content: \"▾\";}#sk-container-id-6 div.sk-estimator input.sk-toggleable__control:checked~label.sk-toggleable__label {background-color: #d4ebff;}#sk-container-id-6 div.sk-label input.sk-toggleable__control:checked~label.sk-toggleable__label {background-color: #d4ebff;}#sk-container-id-6 input.sk-hidden--visually {border: 0;clip: rect(1px 1px 1px 1px);clip: rect(1px, 1px, 1px, 1px);height: 1px;margin: -1px;overflow: hidden;padding: 0;position: absolute;width: 1px;}#sk-container-id-6 div.sk-estimator {font-family: monospace;background-color: #f0f8ff;border: 1px dotted black;border-radius: 0.25em;box-sizing: border-box;margin-bottom: 0.5em;}#sk-container-id-6 div.sk-estimator:hover {background-color: #d4ebff;}#sk-container-id-6 div.sk-parallel-item::after {content: \"\";width: 100%;border-bottom: 1px solid gray;flex-grow: 1;}#sk-container-id-6 div.sk-label:hover label.sk-toggleable__label {background-color: #d4ebff;}#sk-container-id-6 div.sk-serial::before {content: \"\";position: absolute;border-left: 1px solid gray;box-sizing: border-box;top: 0;bottom: 0;left: 50%;z-index: 0;}#sk-container-id-6 div.sk-serial {display: flex;flex-direction: column;align-items: center;background-color: white;padding-right: 0.2em;padding-left: 0.2em;position: relative;}#sk-container-id-6 div.sk-item {position: relative;z-index: 1;}#sk-container-id-6 div.sk-parallel {display: flex;align-items: stretch;justify-content: center;background-color: white;position: relative;}#sk-container-id-6 div.sk-item::before, #sk-container-id-6 div.sk-parallel-item::before {content: \"\";position: absolute;border-left: 1px solid gray;box-sizing: border-box;top: 0;bottom: 0;left: 50%;z-index: -1;}#sk-container-id-6 div.sk-parallel-item {display: flex;flex-direction: column;z-index: 1;position: relative;background-color: white;}#sk-container-id-6 div.sk-parallel-item:first-child::after {align-self: flex-end;width: 50%;}#sk-container-id-6 div.sk-parallel-item:last-child::after {align-self: flex-start;width: 50%;}#sk-container-id-6 div.sk-parallel-item:only-child::after {width: 0;}#sk-container-id-6 div.sk-dashed-wrapped {border: 1px dashed gray;margin: 0 0.4em 0.5em 0.4em;box-sizing: border-box;padding-bottom: 0.4em;background-color: white;}#sk-container-id-6 div.sk-label label {font-family: monospace;font-weight: bold;display: inline-block;line-height: 1.2em;}#sk-container-id-6 div.sk-label-container {text-align: center;}#sk-container-id-6 div.sk-container {/* jupyter's `normalize.less` sets `[hidden] { display: none; }` but bootstrap.min.css set `[hidden] { display: none !important; }` so we also need the `!important` here to be able to override the default hidden behavior on the sphinx rendered scikit-learn.org. See: https://github.com/scikit-learn/scikit-learn/issues/21755 */display: inline-block !important;position: relative;}#sk-container-id-6 div.sk-text-repr-fallback {display: none;}</style><div id=\"sk-container-id-6\" class=\"sk-top-container\"><div class=\"sk-text-repr-fallback\"><pre>Pipeline(steps=[(&#x27;standardscaler&#x27;, StandardScaler()),\n",
       "                (&#x27;stackingclassifier&#x27;,\n",
       "                 StackingClassifier(cv=6,\n",
       "                                    estimators=[(&#x27;lr&#x27;,\n",
       "                                                 LogisticRegression(random_state=42)),\n",
       "                                                (&#x27;rf&#x27;,\n",
       "                                                 RandomForestClassifier(random_state=42)),\n",
       "                                                (&#x27;svc&#x27;,\n",
       "                                                 SVC(probability=True,\n",
       "                                                     random_state=42))],\n",
       "                                    final_estimator=RandomForestClassifier(random_state=42)))])</pre><b>In a Jupyter environment, please rerun this cell to show the HTML representation or trust the notebook. <br />On GitHub, the HTML representation is unable to render, please try loading this page with nbviewer.org.</b></div><div class=\"sk-container\" hidden><div class=\"sk-item sk-dashed-wrapped\"><div class=\"sk-label-container\"><div class=\"sk-label sk-toggleable\"><input class=\"sk-toggleable__control sk-hidden--visually\" id=\"sk-estimator-id-18\" type=\"checkbox\" ><label for=\"sk-estimator-id-18\" class=\"sk-toggleable__label sk-toggleable__label-arrow\">Pipeline</label><div class=\"sk-toggleable__content\"><pre>Pipeline(steps=[(&#x27;standardscaler&#x27;, StandardScaler()),\n",
       "                (&#x27;stackingclassifier&#x27;,\n",
       "                 StackingClassifier(cv=6,\n",
       "                                    estimators=[(&#x27;lr&#x27;,\n",
       "                                                 LogisticRegression(random_state=42)),\n",
       "                                                (&#x27;rf&#x27;,\n",
       "                                                 RandomForestClassifier(random_state=42)),\n",
       "                                                (&#x27;svc&#x27;,\n",
       "                                                 SVC(probability=True,\n",
       "                                                     random_state=42))],\n",
       "                                    final_estimator=RandomForestClassifier(random_state=42)))])</pre></div></div></div><div class=\"sk-serial\"><div class=\"sk-item\"><div class=\"sk-estimator sk-toggleable\"><input class=\"sk-toggleable__control sk-hidden--visually\" id=\"sk-estimator-id-19\" type=\"checkbox\" ><label for=\"sk-estimator-id-19\" class=\"sk-toggleable__label sk-toggleable__label-arrow\">StandardScaler</label><div class=\"sk-toggleable__content\"><pre>StandardScaler()</pre></div></div></div><div class=\"sk-item\"><div class=\"sk-label-container\"><div class=\"sk-label sk-toggleable\"><input class=\"sk-toggleable__control sk-hidden--visually\" id=\"sk-estimator-id-20\" type=\"checkbox\" ><label for=\"sk-estimator-id-20\" class=\"sk-toggleable__label sk-toggleable__label-arrow\">stackingclassifier: StackingClassifier</label><div class=\"sk-toggleable__content\"><pre>StackingClassifier(cv=6,\n",
       "                   estimators=[(&#x27;lr&#x27;, LogisticRegression(random_state=42)),\n",
       "                               (&#x27;rf&#x27;, RandomForestClassifier(random_state=42)),\n",
       "                               (&#x27;svc&#x27;, SVC(probability=True, random_state=42))],\n",
       "                   final_estimator=RandomForestClassifier(random_state=42))</pre></div></div></div><div class=\"sk-serial\"><div class=\"sk-item\"><div class=\"sk-parallel\"><div class=\"sk-parallel-item\"><div class=\"sk-item\"><div class=\"sk-label-container\"><div class=\"sk-label sk-toggleable\"><label>lr</label></div></div><div class=\"sk-serial\"><div class=\"sk-item\"><div class=\"sk-estimator sk-toggleable\"><input class=\"sk-toggleable__control sk-hidden--visually\" id=\"sk-estimator-id-21\" type=\"checkbox\" ><label for=\"sk-estimator-id-21\" class=\"sk-toggleable__label sk-toggleable__label-arrow\">LogisticRegression</label><div class=\"sk-toggleable__content\"><pre>LogisticRegression(random_state=42)</pre></div></div></div></div></div></div><div class=\"sk-parallel-item\"><div class=\"sk-item\"><div class=\"sk-label-container\"><div class=\"sk-label sk-toggleable\"><label>rf</label></div></div><div class=\"sk-serial\"><div class=\"sk-item\"><div class=\"sk-estimator sk-toggleable\"><input class=\"sk-toggleable__control sk-hidden--visually\" id=\"sk-estimator-id-22\" type=\"checkbox\" ><label for=\"sk-estimator-id-22\" class=\"sk-toggleable__label sk-toggleable__label-arrow\">RandomForestClassifier</label><div class=\"sk-toggleable__content\"><pre>RandomForestClassifier(random_state=42)</pre></div></div></div></div></div></div><div class=\"sk-parallel-item\"><div class=\"sk-item\"><div class=\"sk-label-container\"><div class=\"sk-label sk-toggleable\"><label>svc</label></div></div><div class=\"sk-serial\"><div class=\"sk-item\"><div class=\"sk-estimator sk-toggleable\"><input class=\"sk-toggleable__control sk-hidden--visually\" id=\"sk-estimator-id-23\" type=\"checkbox\" ><label for=\"sk-estimator-id-23\" class=\"sk-toggleable__label sk-toggleable__label-arrow\">SVC</label><div class=\"sk-toggleable__content\"><pre>SVC(probability=True, random_state=42)</pre></div></div></div></div></div></div></div></div><div class=\"sk-item\"><div class=\"sk-parallel\"><div class=\"sk-parallel-item\"><div class=\"sk-item\"><div class=\"sk-label-container\"><div class=\"sk-label sk-toggleable\"><label>final_estimator</label></div></div><div class=\"sk-serial\"><div class=\"sk-item\"><div class=\"sk-estimator sk-toggleable\"><input class=\"sk-toggleable__control sk-hidden--visually\" id=\"sk-estimator-id-24\" type=\"checkbox\" ><label for=\"sk-estimator-id-24\" class=\"sk-toggleable__label sk-toggleable__label-arrow\">RandomForestClassifier</label><div class=\"sk-toggleable__content\"><pre>RandomForestClassifier(random_state=42)</pre></div></div></div></div></div></div></div></div></div></div></div></div></div></div>"
      ],
      "text/plain": [
       "Pipeline(steps=[('standardscaler', StandardScaler()),\n",
       "                ('stackingclassifier',\n",
       "                 StackingClassifier(cv=6,\n",
       "                                    estimators=[('lr',\n",
       "                                                 LogisticRegression(random_state=42)),\n",
       "                                                ('rf',\n",
       "                                                 RandomForestClassifier(random_state=42)),\n",
       "                                                ('svc',\n",
       "                                                 SVC(probability=True,\n",
       "                                                     random_state=42))],\n",
       "                                    final_estimator=RandomForestClassifier(random_state=42)))])"
      ]
     },
     "execution_count": 44,
     "metadata": {},
     "output_type": "execute_result"
    }
   ],
   "source": [
    "pipeline.fit(X_train, y_train)"
   ]
  },
  {
   "cell_type": "code",
   "execution_count": 45,
   "id": "bf926360-694d-43bd-b3f8-87c0b3710fba",
   "metadata": {},
   "outputs": [
    {
     "data": {
      "text/plain": [
       "0.839"
      ]
     },
     "execution_count": 45,
     "metadata": {},
     "output_type": "execute_result"
    }
   ],
   "source": [
    "round(pipeline.score(X_test, y_test), 3)"
   ]
  },
  {
   "cell_type": "markdown",
   "id": "3ec1624e-670c-421a-9336-b06b8841b524",
   "metadata": {},
   "source": [
    "In addition to the accuracy not being the best, the execution time is excessively high, reaching 7-8 hours.  \n",
    "Therefore, this method may not be suitable for this dataset."
   ]
  },
  {
   "cell_type": "markdown",
   "id": "1d196ec1-f25c-4ae7-b50b-6e083504690b",
   "metadata": {},
   "source": [
    "### Neural Networks Method\n",
    "\n",
    "Finally, we will use the **Neural Networks** method, which is undoubtedly the fastest of the previous methods. While it may not reach the optimal solution, it is the best in terms of execution time.\n",
    "\n",
    "First, we will select 10% of the training dataset to serve as the validation set."
   ]
  },
  {
   "cell_type": "code",
   "execution_count": 47,
   "id": "40035a91-e1a0-4193-8ce6-84aab68e3ea2",
   "metadata": {},
   "outputs": [],
   "source": [
    "X_train_nn, y_train_nn = X_train[:-14000], y_train[:-14000]\n",
    "X_valid, y_valid = X_train[-14000:], y_train[-14000:]"
   ]
  },
  {
   "cell_type": "markdown",
   "id": "55b4df5b-269b-4138-a3ea-85291558b2ea",
   "metadata": {},
   "source": [
    "We create the neural network, which is defined as a sequence of 4 fully connected layers. We specify that the model has 15 features, with the number of neurons in each layer being: 1024, 512, 64, and 1, respectively. Since this is a **binary classification** problem, the final layer consists of a single neuron, and we use the **sigmoid activation** function."
   ]
  },
  {
   "cell_type": "code",
   "execution_count": null,
   "id": "02a4fca9-59fb-4bae-ab89-fe6548bd23e2",
   "metadata": {},
   "outputs": [],
   "source": [
    "model = tf.keras.models.Sequential([\n",
    "    tf.keras.layers.Flatten(input_shape=[15]),\n",
    "    tf.keras.layers.Dense(1024, kernel_initializer = 'uniform', activation=\"relu\"),\n",
    "    tf.keras.layers.Dense(512, kernel_initializer = 'uniform', activation=\"relu\"),\n",
    "    tf.keras.layers.Dense(64, kernel_initializer = 'uniform', activation=\"relu\"),\n",
    "    tf.keras.layers.Dense(1, kernel_initializer = 'uniform', activation=\"sigmoid\")\n",
    "])"
   ]
  },
  {
   "cell_type": "markdown",
   "id": "dc62ff04-66b3-4372-be61-dc45293eaa41",
   "metadata": {},
   "source": [
    "We verify that the neural network has the desired architecture."
   ]
  },
  {
   "cell_type": "code",
   "execution_count": 49,
   "id": "66583862-ea03-4a38-8890-70f2ffb59b22",
   "metadata": {},
   "outputs": [
    {
     "name": "stdout",
     "output_type": "stream",
     "text": [
      "Model: \"sequential\"\n",
      "_________________________________________________________________\n",
      " Layer (type)                Output Shape              Param #   \n",
      "=================================================================\n",
      " flatten (Flatten)           (None, 15)                0         \n",
      "                                                                 \n",
      " dense (Dense)               (None, 1024)              16384     \n",
      "                                                                 \n",
      " dense_1 (Dense)             (None, 512)               524800    \n",
      "                                                                 \n",
      " dense_2 (Dense)             (None, 64)                32832     \n",
      "                                                                 \n",
      " dense_3 (Dense)             (None, 1)                 65        \n",
      "                                                                 \n",
      "=================================================================\n",
      "Total params: 574,081\n",
      "Trainable params: 574,081\n",
      "Non-trainable params: 0\n",
      "_________________________________________________________________\n"
     ]
    }
   ],
   "source": [
    "model.summary()"
   ]
  },
  {
   "cell_type": "markdown",
   "id": "48ee352c-5bf4-40c1-b74c-e5e67128f71e",
   "metadata": {},
   "source": [
    "Next, we define the remaining parameters for the neural network, selecting the **loss function**, **optimizer**, and **metric**. We then choose a total of 20 iterations for the model and execute it.\n",
    "\n",
    "You can also consider choosing other values for the **iterations** parameter, in orther to reach the best soluction."
   ]
  },
  {
   "cell_type": "code",
   "execution_count": 50,
   "id": "25678ad3-d670-489e-88df-4bcfbf45ba99",
   "metadata": {},
   "outputs": [],
   "source": [
    "model.compile(loss='binary_crossentropy',\n",
    "                optimizer='adam',\n",
    "                metrics=['accuracy'])"
   ]
  },
  {
   "cell_type": "code",
   "execution_count": 51,
   "id": "dbb3003d-088d-41df-8e2f-b9e3a640d177",
   "metadata": {},
   "outputs": [
    {
     "name": "stdout",
     "output_type": "stream",
     "text": [
      "Epoch 1/20\n",
      "2863/2863 [==============================] - 39s 13ms/step - loss: 0.4109 - accuracy: 0.8268 - val_loss: 0.4393 - val_accuracy: 0.8101\n",
      "Epoch 2/20\n",
      "2863/2863 [==============================] - 37s 13ms/step - loss: 0.3880 - accuracy: 0.8351 - val_loss: 0.3681 - val_accuracy: 0.8446\n",
      "Epoch 3/20\n",
      "2863/2863 [==============================] - 38s 13ms/step - loss: 0.3853 - accuracy: 0.8372 - val_loss: 0.3682 - val_accuracy: 0.8454\n",
      "Epoch 4/20\n",
      "2863/2863 [==============================] - 38s 13ms/step - loss: 0.3837 - accuracy: 0.8374 - val_loss: 0.3682 - val_accuracy: 0.8446\n",
      "Epoch 5/20\n",
      "2863/2863 [==============================] - 37s 13ms/step - loss: 0.3818 - accuracy: 0.8371 - val_loss: 0.3685 - val_accuracy: 0.8464\n",
      "Epoch 6/20\n",
      "2863/2863 [==============================] - 37s 13ms/step - loss: 0.3797 - accuracy: 0.8388 - val_loss: 0.3665 - val_accuracy: 0.8445\n",
      "Epoch 7/20\n",
      "2863/2863 [==============================] - 37s 13ms/step - loss: 0.3794 - accuracy: 0.8392 - val_loss: 0.3650 - val_accuracy: 0.8461\n",
      "Epoch 8/20\n",
      "2863/2863 [==============================] - 37s 13ms/step - loss: 0.3777 - accuracy: 0.8404 - val_loss: 0.3670 - val_accuracy: 0.8448\n",
      "Epoch 9/20\n",
      "2863/2863 [==============================] - 38s 13ms/step - loss: 0.3771 - accuracy: 0.8401 - val_loss: 0.3635 - val_accuracy: 0.8466\n",
      "Epoch 10/20\n",
      "2863/2863 [==============================] - 38s 13ms/step - loss: 0.3763 - accuracy: 0.8402 - val_loss: 0.3627 - val_accuracy: 0.8484\n",
      "Epoch 11/20\n",
      "2863/2863 [==============================] - 37s 13ms/step - loss: 0.3754 - accuracy: 0.8405 - val_loss: 0.3655 - val_accuracy: 0.8456\n",
      "Epoch 12/20\n",
      "2863/2863 [==============================] - 38s 13ms/step - loss: 0.3751 - accuracy: 0.8413 - val_loss: 0.3675 - val_accuracy: 0.8464\n",
      "Epoch 13/20\n",
      "2863/2863 [==============================] - 38s 13ms/step - loss: 0.3744 - accuracy: 0.8414 - val_loss: 0.3643 - val_accuracy: 0.8463\n",
      "Epoch 14/20\n",
      "2863/2863 [==============================] - 37s 13ms/step - loss: 0.3737 - accuracy: 0.8421 - val_loss: 0.3711 - val_accuracy: 0.8438\n",
      "Epoch 15/20\n",
      "2863/2863 [==============================] - 41s 14ms/step - loss: 0.3730 - accuracy: 0.8426 - val_loss: 0.3656 - val_accuracy: 0.8486\n",
      "Epoch 16/20\n",
      "2863/2863 [==============================] - 40s 14ms/step - loss: 0.3724 - accuracy: 0.8431 - val_loss: 0.3624 - val_accuracy: 0.8467\n",
      "Epoch 17/20\n",
      "2863/2863 [==============================] - 37s 13ms/step - loss: 0.3720 - accuracy: 0.8431 - val_loss: 0.3788 - val_accuracy: 0.8386\n",
      "Epoch 18/20\n",
      "2863/2863 [==============================] - 43s 15ms/step - loss: 0.3717 - accuracy: 0.8430 - val_loss: 0.3609 - val_accuracy: 0.8488\n",
      "Epoch 19/20\n",
      "2863/2863 [==============================] - 43s 15ms/step - loss: 0.3713 - accuracy: 0.8428 - val_loss: 0.3620 - val_accuracy: 0.8459\n",
      "Epoch 20/20\n",
      "2863/2863 [==============================] - 42s 15ms/step - loss: 0.3710 - accuracy: 0.8441 - val_loss: 0.3616 - val_accuracy: 0.8492\n"
     ]
    }
   ],
   "source": [
    "history = model.fit(X_train_nn, y_train_nn, epochs=20,\n",
    "                    validation_data=(X_valid, y_valid))"
   ]
  },
  {
   "cell_type": "markdown",
   "id": "a41aa819-b29d-4bf8-ae8d-b812bb994163",
   "metadata": {},
   "source": [
    "### Plotting Training and Validation Scores and Losses\n",
    "\n",
    "Finally, we plot the **training** and **validation** scores and losses to assess whether any hyperparameters need to be adjusted."
   ]
  },
  {
   "cell_type": "code",
   "execution_count": 53,
   "id": "5bf9ebf3-c211-4da8-b223-f3625f786d71",
   "metadata": {},
   "outputs": [
    {
     "data": {
      "text/plain": [
       "<AxesSubplot:xlabel='Epochs'>"
      ]
     },
     "execution_count": 53,
     "metadata": {},
     "output_type": "execute_result"
    },
    {
     "data": {
      "image/png": "[encoded data removed]",
      "text/plain": [
       "<Figure size 800x500 with 1 Axes>"
      ]
     },
     "metadata": {},
     "output_type": "display_data"
    }
   ],
   "source": [
    "pd.DataFrame(history.history).plot(\n",
    "    figsize=(8, 5), xlim=[0,29], ylim=[0,1], grid=True, xlabel='Epochs',\n",
    "    style=['r--', 'r--.', 'b-', 'b-*'])"
   ]
  },
  {
   "cell_type": "markdown",
   "id": "7941cd7a-64d8-4d17-86b0-7c33fc1cd314",
   "metadata": {},
   "source": [
    "## Results and Conclusion\n",
    "\n",
    "After using a wide range of different classification methods, we obtained the best result with the **Boosting method**, achieving a score of **85.69**, which is a great percentage, considering that we are predicting whether it will rain tomorrow (1 mm or more), a task that is quite challenging.\n",
    "\n",
    "However, it is important to note that the highest score is not always the most important factor; execution time also plays a significant role. In this regard, the **Neural Networks** method outperforms the others, as it provides a result quickly. Moreover, it iterates (for the specified number of times) to find the optimal solution, without the need to define the importance of each feature manually.\n",
    "\n",
    "On the other hand, methods like **Bagging**, **Boosting**, and **Stacking** can be very interesting, as they tend to improve scores without the need to create new classifiers. Once we reach a certain score and cannot improve it further, these methods can often enhance the results. These techniques involve using different classifiers, or the same one multiple times, to consider each method's prediction when making the final prediction. Similar methods include the **Voting Classifier** and **Random Forest**, the latter being particularly useful for selecting relevant variables and discarding unnecessary ones."
   ]
  }
 ],
 "metadata": {
  "kernelspec": {
   "display_name": "Python 3",
   "language": "python",
   "name": "python3"
  },
  "language_info": {
   "codemirror_mode": {
    "name": "ipython",
    "version": 3
   },
   "file_extension": ".py",
   "mimetype": "text/x-python",
   "name": "python",
   "nbconvert_exporter": "python",
   "pygments_lexer": "ipython3",
   "version": "3.10.6"
  },
  "toc-autonumbering": false,
  "toc-showcode": false,
  "toc-showmarkdowntxt": false,
  "toc-showtags": false
 },
 "nbformat": 4,
 "nbformat_minor": 5
}
